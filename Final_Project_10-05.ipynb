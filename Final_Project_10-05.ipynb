{
 "cells": [
  {
   "cell_type": "markdown",
   "metadata": {},
   "source": [
    "# Book Recommendations"
   ]
  },
  {
   "cell_type": "markdown",
   "metadata": {},
   "source": [
    "André Filipe Silva - 26005<br>\n",
    "Nuno Pereira - 25809<br>\n",
    "Sara Albuquerque - 31965<br>\n",
    "Tobias Tesing - 41683"
   ]
  },
  {
   "cell_type": "markdown",
   "metadata": {},
   "source": [
    "## **Business Problem: How to predict book ratings?**\n",
    "Relevance: In a world in constant change and rapid growth, books have been losing its value. Therefore, it is important to apply strategies to increase their attractiveness (or, in a financial view, increase sales), namely, a machine learning algorithm that predicts books you would actually might want to read."
   ]
  },
  {
   "cell_type": "markdown",
   "metadata": {},
   "source": [
    "### Q&A from Midterm Project Submission"
   ]
  },
  {
   "cell_type": "markdown",
   "metadata": {},
   "source": [
    "### **Question:** Is it a classification problem or a regression problem? "
   ]
  },
  {
   "cell_type": "markdown",
   "metadata": {},
   "source": [
    "**Answer:** We are solving a recommendations type of problem. We are using recommender systems to let our users know what could be the most interesting books for them, based on ratings generated for books that they have not read yet."
   ]
  },
  {
   "cell_type": "markdown",
   "metadata": {},
   "source": [
    "### **Question:** Is the goal to build a model that generates a ranked list, or is it to detect anomalies as new data come in? "
   ]
  },
  {
   "cell_type": "markdown",
   "metadata": {},
   "source": [
    "**Answer:** The goal in this study is to build a ranked list of book ratings - this was done through multiple models."
   ]
  },
  {
   "cell_type": "markdown",
   "metadata": {},
   "source": [
    "### **Question:** Are you doing clustering to find hidden patterns?"
   ]
  },
  {
   "cell_type": "markdown",
   "metadata": {},
   "source": [
    "**Answer:** No, we are not applying clustering. We try to cluster book titles later on, but find that it does not make sense."
   ]
  },
  {
   "cell_type": "markdown",
   "metadata": {},
   "source": [
    "### __Question:__ If applicable, what is your target?"
   ]
  },
  {
   "cell_type": "markdown",
   "metadata": {},
   "source": [
    "__Answer:__ Our targets are the unknown ratings, as we will essencially be generating book recommendations, which will boil down to generating ratings for books that the user has not read yet."
   ]
  },
  {
   "cell_type": "markdown",
   "metadata": {},
   "source": [
    "# Explorative Data Analysis"
   ]
  },
  {
   "cell_type": "code",
   "execution_count": 123,
   "metadata": {},
   "outputs": [],
   "source": [
    "from IPython.core.interactiveshell import InteractiveShell\n",
    "InteractiveShell.ast_node_interactivity = \"all\""
   ]
  },
  {
   "cell_type": "code",
   "execution_count": 124,
   "metadata": {},
   "outputs": [
    {
     "name": "stderr",
     "output_type": "stream",
     "text": [
      "C:\\Users\\tobia\\Anaconda3\\envs\\mlcourse1\\lib\\site-packages\\IPython\\core\\interactiveshell.py:3155: DtypeWarning: Columns (3,8,9,10) have mixed types.Specify dtype option on import or set low_memory=False.\n",
      "  has_raised = await self.run_ast_nodes(code_ast.body, cell_name,\n"
     ]
    }
   ],
   "source": [
    "import os\n",
    "import pandas as pd\n",
    "import numpy as np\n",
    "import matplotlib.pyplot as plt\n",
    "import math\n",
    "from sklearn.feature_extraction.text import TfidfVectorizer\n",
    "from surprise import Dataset\n",
    "from surprise import Reader\n",
    "from surprise import KNNWithMeans\n",
    "from surprise.model_selection import GridSearchCV\n",
    "from surprise import SVD\n",
    "from surprise import accuracy\n",
    "from surprise.model_selection import train_test_split\n",
    "from sklearn.cluster import KMeans\n",
    "import random\n",
    "random.seed(2949)\n",
    "\n",
    "path = \"C:/Users/tobia/OneDrive/Dokumente/Vwl/Master/4. Semester/Machine Learning/Project/Altered Data\"\n",
    "\n",
    "os.chdir(path)\n",
    "\n",
    "# We had to edit line 6452 on the BX-Books.csv just to be able to run the read_csv. \n",
    "# Otherwise, we would always get this error: `ParserError: Error tokenizing data. C error: Expected 8 fields in line 6452, saw 9`\n",
    "# We have sent in attachment the altered data files.\n",
    "\n",
    "df_users = pd.read_csv(\"BX-Users.csv\", delimiter = \";\", encoding=\"ISO-8859-1\")\n",
    "df_books = pd.read_csv(\"BX-Books.csv\", delimiter = \";\", encoding=\"ISO-8859-1\")\n",
    "df_ratings = pd.read_csv(\"BX-Book-Ratings.csv\", delimiter = \";\", encoding=\"ISO-8859-1\")"
   ]
  },
  {
   "cell_type": "code",
   "execution_count": 125,
   "metadata": {},
   "outputs": [
    {
     "data": {
      "text/html": [
       "<div>\n",
       "<style scoped>\n",
       "    .dataframe tbody tr th:only-of-type {\n",
       "        vertical-align: middle;\n",
       "    }\n",
       "\n",
       "    .dataframe tbody tr th {\n",
       "        vertical-align: top;\n",
       "    }\n",
       "\n",
       "    .dataframe thead th {\n",
       "        text-align: right;\n",
       "    }\n",
       "</style>\n",
       "<table border=\"1\" class=\"dataframe\">\n",
       "  <thead>\n",
       "    <tr style=\"text-align: right;\">\n",
       "      <th></th>\n",
       "      <th>User-ID</th>\n",
       "      <th>Location</th>\n",
       "      <th>Age</th>\n",
       "    </tr>\n",
       "  </thead>\n",
       "  <tbody>\n",
       "    <tr>\n",
       "      <th>0</th>\n",
       "      <td>1</td>\n",
       "      <td>nyc, new york, usa</td>\n",
       "      <td>NaN</td>\n",
       "    </tr>\n",
       "    <tr>\n",
       "      <th>1</th>\n",
       "      <td>2</td>\n",
       "      <td>stockton, california, usa</td>\n",
       "      <td>18.0</td>\n",
       "    </tr>\n",
       "  </tbody>\n",
       "</table>\n",
       "</div>"
      ],
      "text/plain": [
       "   User-ID                   Location   Age\n",
       "0        1         nyc, new york, usa   NaN\n",
       "1        2  stockton, california, usa  18.0"
      ]
     },
     "execution_count": 125,
     "metadata": {},
     "output_type": "execute_result"
    }
   ],
   "source": [
    "df_users.head(2)"
   ]
  },
  {
   "cell_type": "code",
   "execution_count": 126,
   "metadata": {},
   "outputs": [
    {
     "data": {
      "text/plain": [
       "278858"
      ]
     },
     "execution_count": 126,
     "metadata": {},
     "output_type": "execute_result"
    },
    {
     "data": {
      "text/plain": [
       "(278858, 3)"
      ]
     },
     "execution_count": 126,
     "metadata": {},
     "output_type": "execute_result"
    }
   ],
   "source": [
    "df_users['User-ID'].nunique()\n",
    "df_users.shape                   # 278,858 users"
   ]
  },
  {
   "cell_type": "code",
   "execution_count": 127,
   "metadata": {},
   "outputs": [
    {
     "data": {
      "text/html": [
       "<div>\n",
       "<style scoped>\n",
       "    .dataframe tbody tr th:only-of-type {\n",
       "        vertical-align: middle;\n",
       "    }\n",
       "\n",
       "    .dataframe tbody tr th {\n",
       "        vertical-align: top;\n",
       "    }\n",
       "\n",
       "    .dataframe thead th {\n",
       "        text-align: right;\n",
       "    }\n",
       "</style>\n",
       "<table border=\"1\" class=\"dataframe\">\n",
       "  <thead>\n",
       "    <tr style=\"text-align: right;\">\n",
       "      <th></th>\n",
       "      <th>ISBN</th>\n",
       "      <th>Book-Title</th>\n",
       "      <th>Book-Author</th>\n",
       "      <th>Year-Of-Publication</th>\n",
       "      <th>Publisher</th>\n",
       "      <th>Image-URL-S</th>\n",
       "      <th>Image-URL-M</th>\n",
       "      <th>Image-URL-L</th>\n",
       "      <th>Unnamed: 8</th>\n",
       "      <th>Unnamed: 9</th>\n",
       "      <th>Unnamed: 10</th>\n",
       "    </tr>\n",
       "  </thead>\n",
       "  <tbody>\n",
       "    <tr>\n",
       "      <th>0</th>\n",
       "      <td>195153448</td>\n",
       "      <td>Classical Mythology</td>\n",
       "      <td>Mark P. O. Morford</td>\n",
       "      <td>2002</td>\n",
       "      <td>Oxford University Press</td>\n",
       "      <td>http://images.amazon.com/images/P/0195153448.0...</td>\n",
       "      <td>http://images.amazon.com/images/P/0195153448.0...</td>\n",
       "      <td>http://images.amazon.com/images/P/0195153448.0...</td>\n",
       "      <td>NaN</td>\n",
       "      <td>NaN</td>\n",
       "      <td>NaN</td>\n",
       "    </tr>\n",
       "    <tr>\n",
       "      <th>1</th>\n",
       "      <td>2005018</td>\n",
       "      <td>Clara Callan</td>\n",
       "      <td>Richard Bruce Wright</td>\n",
       "      <td>2001</td>\n",
       "      <td>HarperFlamingo Canada</td>\n",
       "      <td>http://images.amazon.com/images/P/0002005018.0...</td>\n",
       "      <td>http://images.amazon.com/images/P/0002005018.0...</td>\n",
       "      <td>http://images.amazon.com/images/P/0002005018.0...</td>\n",
       "      <td>NaN</td>\n",
       "      <td>NaN</td>\n",
       "      <td>NaN</td>\n",
       "    </tr>\n",
       "  </tbody>\n",
       "</table>\n",
       "</div>"
      ],
      "text/plain": [
       "        ISBN           Book-Title           Book-Author Year-Of-Publication  \\\n",
       "0  195153448  Classical Mythology    Mark P. O. Morford                2002   \n",
       "1    2005018         Clara Callan  Richard Bruce Wright                2001   \n",
       "\n",
       "                 Publisher                                        Image-URL-S  \\\n",
       "0  Oxford University Press  http://images.amazon.com/images/P/0195153448.0...   \n",
       "1    HarperFlamingo Canada  http://images.amazon.com/images/P/0002005018.0...   \n",
       "\n",
       "                                         Image-URL-M  \\\n",
       "0  http://images.amazon.com/images/P/0195153448.0...   \n",
       "1  http://images.amazon.com/images/P/0002005018.0...   \n",
       "\n",
       "                                         Image-URL-L Unnamed: 8 Unnamed: 9  \\\n",
       "0  http://images.amazon.com/images/P/0195153448.0...        NaN        NaN   \n",
       "1  http://images.amazon.com/images/P/0002005018.0...        NaN        NaN   \n",
       "\n",
       "  Unnamed: 10  \n",
       "0         NaN  \n",
       "1         NaN  "
      ]
     },
     "execution_count": 127,
     "metadata": {},
     "output_type": "execute_result"
    }
   ],
   "source": [
    "df_books.head(2)"
   ]
  },
  {
   "cell_type": "code",
   "execution_count": 128,
   "metadata": {},
   "outputs": [
    {
     "data": {
      "text/plain": [
       "(271379, 11)"
      ]
     },
     "execution_count": 128,
     "metadata": {},
     "output_type": "execute_result"
    }
   ],
   "source": [
    "df_books.shape           # 271,379 books"
   ]
  },
  {
   "cell_type": "code",
   "execution_count": 129,
   "metadata": {},
   "outputs": [
    {
     "data": {
      "text/html": [
       "<div>\n",
       "<style scoped>\n",
       "    .dataframe tbody tr th:only-of-type {\n",
       "        vertical-align: middle;\n",
       "    }\n",
       "\n",
       "    .dataframe tbody tr th {\n",
       "        vertical-align: top;\n",
       "    }\n",
       "\n",
       "    .dataframe thead th {\n",
       "        text-align: right;\n",
       "    }\n",
       "</style>\n",
       "<table border=\"1\" class=\"dataframe\">\n",
       "  <thead>\n",
       "    <tr style=\"text-align: right;\">\n",
       "      <th></th>\n",
       "      <th>User-ID</th>\n",
       "      <th>ISBN</th>\n",
       "      <th>Book-Rating</th>\n",
       "    </tr>\n",
       "  </thead>\n",
       "  <tbody>\n",
       "    <tr>\n",
       "      <th>0</th>\n",
       "      <td>276725</td>\n",
       "      <td>034545104X</td>\n",
       "      <td>0</td>\n",
       "    </tr>\n",
       "  </tbody>\n",
       "</table>\n",
       "</div>"
      ],
      "text/plain": [
       "   User-ID        ISBN  Book-Rating\n",
       "0   276725  034545104X            0"
      ]
     },
     "execution_count": 129,
     "metadata": {},
     "output_type": "execute_result"
    }
   ],
   "source": [
    "df_ratings.head(1)"
   ]
  },
  {
   "cell_type": "code",
   "execution_count": 130,
   "metadata": {},
   "outputs": [
    {
     "data": {
      "text/plain": [
       "(1149780, 3)"
      ]
     },
     "execution_count": 130,
     "metadata": {},
     "output_type": "execute_result"
    }
   ],
   "source": [
    "df_ratings.shape        # 1,149,780 ratings"
   ]
  },
  {
   "cell_type": "code",
   "execution_count": 131,
   "metadata": {},
   "outputs": [],
   "source": [
    "df = pd.merge(df_ratings, df_users, how = \"inner\", on=\"User-ID\")\n",
    "\n",
    "df = pd.merge(df, df_books, how= \"inner\", on= \"ISBN\")\n",
    "\n",
    "df.rename(columns={\"Book-Rating\": \"Rating\", \"Book-Title\":\"Title\",\"Book-Author\": \"Author\",\"Year-Of-Publication\":\"Year\"}, inplace = True)"
   ]
  },
  {
   "cell_type": "code",
   "execution_count": 132,
   "metadata": {},
   "outputs": [
    {
     "data": {
      "text/plain": [
       "(196842, 15)"
      ]
     },
     "execution_count": 132,
     "metadata": {},
     "output_type": "execute_result"
    }
   ],
   "source": [
    "df.shape           # 196,842 obs left"
   ]
  },
  {
   "cell_type": "code",
   "execution_count": 133,
   "metadata": {},
   "outputs": [
    {
     "data": {
      "text/html": [
       "<div>\n",
       "<style scoped>\n",
       "    .dataframe tbody tr th:only-of-type {\n",
       "        vertical-align: middle;\n",
       "    }\n",
       "\n",
       "    .dataframe tbody tr th {\n",
       "        vertical-align: top;\n",
       "    }\n",
       "\n",
       "    .dataframe thead th {\n",
       "        text-align: right;\n",
       "    }\n",
       "</style>\n",
       "<table border=\"1\" class=\"dataframe\">\n",
       "  <thead>\n",
       "    <tr style=\"text-align: right;\">\n",
       "      <th></th>\n",
       "      <th>User-ID</th>\n",
       "      <th>ISBN</th>\n",
       "      <th>Rating</th>\n",
       "      <th>Location</th>\n",
       "      <th>Age</th>\n",
       "      <th>Title</th>\n",
       "      <th>Author</th>\n",
       "      <th>Year</th>\n",
       "      <th>Publisher</th>\n",
       "      <th>Image-URL-S</th>\n",
       "      <th>Image-URL-M</th>\n",
       "      <th>Image-URL-L</th>\n",
       "      <th>Unnamed: 8</th>\n",
       "      <th>Unnamed: 9</th>\n",
       "      <th>Unnamed: 10</th>\n",
       "    </tr>\n",
       "  </thead>\n",
       "  <tbody>\n",
       "    <tr>\n",
       "      <th>0</th>\n",
       "      <td>276725</td>\n",
       "      <td>034545104X</td>\n",
       "      <td>0</td>\n",
       "      <td>tyler, texas, usa</td>\n",
       "      <td>NaN</td>\n",
       "      <td>Flesh Tones: A Novel</td>\n",
       "      <td>M. J. Rose</td>\n",
       "      <td>2002</td>\n",
       "      <td>Ballantine Books</td>\n",
       "      <td>http://images.amazon.com/images/P/034545104X.0...</td>\n",
       "      <td>http://images.amazon.com/images/P/034545104X.0...</td>\n",
       "      <td>http://images.amazon.com/images/P/034545104X.0...</td>\n",
       "      <td>NaN</td>\n",
       "      <td>NaN</td>\n",
       "      <td>NaN</td>\n",
       "    </tr>\n",
       "    <tr>\n",
       "      <th>1</th>\n",
       "      <td>2313</td>\n",
       "      <td>034545104X</td>\n",
       "      <td>5</td>\n",
       "      <td>cincinnati, ohio, usa</td>\n",
       "      <td>23.0</td>\n",
       "      <td>Flesh Tones: A Novel</td>\n",
       "      <td>M. J. Rose</td>\n",
       "      <td>2002</td>\n",
       "      <td>Ballantine Books</td>\n",
       "      <td>http://images.amazon.com/images/P/034545104X.0...</td>\n",
       "      <td>http://images.amazon.com/images/P/034545104X.0...</td>\n",
       "      <td>http://images.amazon.com/images/P/034545104X.0...</td>\n",
       "      <td>NaN</td>\n",
       "      <td>NaN</td>\n",
       "      <td>NaN</td>\n",
       "    </tr>\n",
       "    <tr>\n",
       "      <th>2</th>\n",
       "      <td>6543</td>\n",
       "      <td>034545104X</td>\n",
       "      <td>0</td>\n",
       "      <td>strafford, missouri, usa</td>\n",
       "      <td>34.0</td>\n",
       "      <td>Flesh Tones: A Novel</td>\n",
       "      <td>M. J. Rose</td>\n",
       "      <td>2002</td>\n",
       "      <td>Ballantine Books</td>\n",
       "      <td>http://images.amazon.com/images/P/034545104X.0...</td>\n",
       "      <td>http://images.amazon.com/images/P/034545104X.0...</td>\n",
       "      <td>http://images.amazon.com/images/P/034545104X.0...</td>\n",
       "      <td>NaN</td>\n",
       "      <td>NaN</td>\n",
       "      <td>NaN</td>\n",
       "    </tr>\n",
       "    <tr>\n",
       "      <th>3</th>\n",
       "      <td>8680</td>\n",
       "      <td>034545104X</td>\n",
       "      <td>5</td>\n",
       "      <td>st. charles county, missouri, usa</td>\n",
       "      <td>2.0</td>\n",
       "      <td>Flesh Tones: A Novel</td>\n",
       "      <td>M. J. Rose</td>\n",
       "      <td>2002</td>\n",
       "      <td>Ballantine Books</td>\n",
       "      <td>http://images.amazon.com/images/P/034545104X.0...</td>\n",
       "      <td>http://images.amazon.com/images/P/034545104X.0...</td>\n",
       "      <td>http://images.amazon.com/images/P/034545104X.0...</td>\n",
       "      <td>NaN</td>\n",
       "      <td>NaN</td>\n",
       "      <td>NaN</td>\n",
       "    </tr>\n",
       "    <tr>\n",
       "      <th>4</th>\n",
       "      <td>10314</td>\n",
       "      <td>034545104X</td>\n",
       "      <td>9</td>\n",
       "      <td>beaverton, oregon, usa</td>\n",
       "      <td>NaN</td>\n",
       "      <td>Flesh Tones: A Novel</td>\n",
       "      <td>M. J. Rose</td>\n",
       "      <td>2002</td>\n",
       "      <td>Ballantine Books</td>\n",
       "      <td>http://images.amazon.com/images/P/034545104X.0...</td>\n",
       "      <td>http://images.amazon.com/images/P/034545104X.0...</td>\n",
       "      <td>http://images.amazon.com/images/P/034545104X.0...</td>\n",
       "      <td>NaN</td>\n",
       "      <td>NaN</td>\n",
       "      <td>NaN</td>\n",
       "    </tr>\n",
       "  </tbody>\n",
       "</table>\n",
       "</div>"
      ],
      "text/plain": [
       "   User-ID        ISBN  Rating                           Location   Age  \\\n",
       "0   276725  034545104X       0                  tyler, texas, usa   NaN   \n",
       "1     2313  034545104X       5              cincinnati, ohio, usa  23.0   \n",
       "2     6543  034545104X       0           strafford, missouri, usa  34.0   \n",
       "3     8680  034545104X       5  st. charles county, missouri, usa   2.0   \n",
       "4    10314  034545104X       9             beaverton, oregon, usa   NaN   \n",
       "\n",
       "                  Title      Author  Year         Publisher  \\\n",
       "0  Flesh Tones: A Novel  M. J. Rose  2002  Ballantine Books   \n",
       "1  Flesh Tones: A Novel  M. J. Rose  2002  Ballantine Books   \n",
       "2  Flesh Tones: A Novel  M. J. Rose  2002  Ballantine Books   \n",
       "3  Flesh Tones: A Novel  M. J. Rose  2002  Ballantine Books   \n",
       "4  Flesh Tones: A Novel  M. J. Rose  2002  Ballantine Books   \n",
       "\n",
       "                                         Image-URL-S  \\\n",
       "0  http://images.amazon.com/images/P/034545104X.0...   \n",
       "1  http://images.amazon.com/images/P/034545104X.0...   \n",
       "2  http://images.amazon.com/images/P/034545104X.0...   \n",
       "3  http://images.amazon.com/images/P/034545104X.0...   \n",
       "4  http://images.amazon.com/images/P/034545104X.0...   \n",
       "\n",
       "                                         Image-URL-M  \\\n",
       "0  http://images.amazon.com/images/P/034545104X.0...   \n",
       "1  http://images.amazon.com/images/P/034545104X.0...   \n",
       "2  http://images.amazon.com/images/P/034545104X.0...   \n",
       "3  http://images.amazon.com/images/P/034545104X.0...   \n",
       "4  http://images.amazon.com/images/P/034545104X.0...   \n",
       "\n",
       "                                         Image-URL-L Unnamed: 8 Unnamed: 9  \\\n",
       "0  http://images.amazon.com/images/P/034545104X.0...        NaN        NaN   \n",
       "1  http://images.amazon.com/images/P/034545104X.0...        NaN        NaN   \n",
       "2  http://images.amazon.com/images/P/034545104X.0...        NaN        NaN   \n",
       "3  http://images.amazon.com/images/P/034545104X.0...        NaN        NaN   \n",
       "4  http://images.amazon.com/images/P/034545104X.0...        NaN        NaN   \n",
       "\n",
       "  Unnamed: 10  \n",
       "0         NaN  \n",
       "1         NaN  \n",
       "2         NaN  \n",
       "3         NaN  \n",
       "4         NaN  "
      ]
     },
     "execution_count": 133,
     "metadata": {},
     "output_type": "execute_result"
    }
   ],
   "source": [
    "df.head(5)"
   ]
  },
  {
   "cell_type": "code",
   "execution_count": 134,
   "metadata": {},
   "outputs": [
    {
     "data": {
      "text/plain": [
       "User-ID          int64\n",
       "ISBN            object\n",
       "Rating           int64\n",
       "Location        object\n",
       "Age            float64\n",
       "Title           object\n",
       "Author          object\n",
       "Year            object\n",
       "Publisher       object\n",
       "Image-URL-S     object\n",
       "Image-URL-M     object\n",
       "Image-URL-L     object\n",
       "Unnamed: 8      object\n",
       "Unnamed: 9      object\n",
       "Unnamed: 10     object\n",
       "dtype: object"
      ]
     },
     "execution_count": 134,
     "metadata": {},
     "output_type": "execute_result"
    }
   ],
   "source": [
    "df.dtypes"
   ]
  },
  {
   "cell_type": "markdown",
   "metadata": {},
   "source": [
    "We can see above that most features are objects. (Note: In fact, all of the features should appear as strings, except for `Age`, `Rating`, and `Year`, which are numerical.)\n",
    "<br>\n",
    "Our transformation of `Year` to numeric type was essencial as it pointed out mixes in columns, and led to proper data cleaning to ensure all the proper data was in its proper column (i.e. author in Author, year in Year, etc)"
   ]
  },
  {
   "cell_type": "code",
   "execution_count": 135,
   "metadata": {},
   "outputs": [],
   "source": [
    "for i in range(len(df)):\n",
    "    if df[\"Year\"][i] == \"Stan Berenstain\":\n",
    "        df.at[i, \"Title\"] = 'C is for Clown: A Circus of Words, (Bright and Early books for beginning beginners)'\n",
    "        df.at[i, \"Author\"] = \"Stan Berenstain\"\n",
    "        df.at[i, \"Year\"] = 1972\n",
    "        df.at[i, \"Publisher\"] = \"Random House Children's Books\"\n",
    "        df.at[i, \"Image-URL-S\"] = np.nan"
   ]
  },
  {
   "cell_type": "code",
   "execution_count": 136,
   "metadata": {},
   "outputs": [],
   "source": [
    "for i in range(len(df)):\n",
    "    if df[\"Year\"][i]== \"Gallimard\" and df[\"Author\"][i] == \"2003\":\n",
    "        df.at[i, \"Title\"] = 'Peuple du ciel, suivi de Les Bergers'\n",
    "        df.at[i, \"Author\"] = \"Jean-Marie Gustave\"\n",
    "        df.at[i, \"Year\"] = 2003\n",
    "        df.at[i, \"Publisher\"] = \"Gallimard\""
   ]
  },
  {
   "cell_type": "code",
   "execution_count": 137,
   "metadata": {},
   "outputs": [],
   "source": [
    "for i in range(len(df)):\n",
    "    if df[\"Author\"][i] == \"2000\" and df[\"Year\"][i] == \"DK Publishing Inc\":\n",
    "        df.at[i, \"Title\"] = 'DK Readers: Creating the X-Men, How It All Began (Level 4: Proficient Readers)'\n",
    "        df.at[i, \"Author\"] = \"Michael Teitelbaum\"\n",
    "        df.at[i, \"Year\"] = 2000\n",
    "        df.at[i, \"Publisher\"] = \"DK Publishing Inc\"   "
   ]
  },
  {
   "cell_type": "code",
   "execution_count": 138,
   "metadata": {},
   "outputs": [],
   "source": [
    "for i in range(len(df)):\n",
    "    if df[\"Year\"][i] == \"Luella Hill\" and df[\"Publisher\"][i] == \"1998\":\n",
    "        df.at[i, \"Title\"] = \"Solid as a rock I stand: Inspirational poetry and short stories\"\n",
    "        df.at[i, \"Author\"] = \"Luella Hill\"\n",
    "        df.at[i, \"Year\"] = 1998\n",
    "        df.at[i, \"Publisher\"] = \"Straight from the Heart Associates\""
   ]
  },
  {
   "cell_type": "code",
   "execution_count": 139,
   "metadata": {},
   "outputs": [],
   "source": [
    "for i in range(len(df)):\n",
    "    if df[\"Year\"][i] == \"Salvador de Madariaga\" and df[\"Publisher\"][i] == \"1976\":\n",
    "        df.at[i, \"Title\"] = 'Guía del lector del \"Quijote\": Ensayo psicológico sobre el \"Quijote\"'\n",
    "        df.at[i, \"Author\"] = \"Salvador de Madariaga\"\n",
    "        df.at[i, \"Year\"] = 1976\n",
    "        df.at[i, \"Publisher\"] = \"Espasa-Calpe\""
   ]
  },
  {
   "cell_type": "code",
   "execution_count": 140,
   "metadata": {},
   "outputs": [],
   "source": [
    "for i in range(len(df)):\n",
    "    if df[\"Year\"][i] == \"K.C. Constantine\" and df[\"Publisher\"][i] == \"1990\":\n",
    "        df.at[i, \"Title\"] = 'The Double Detective: \"The Blank Page\" and \"A Fix Like This\" (Crime Club)'\n",
    "        df.at[i, \"Author\"] = \"K.C. Constantine\"\n",
    "        df.at[i, \"Year\"] = 1990\n",
    "        df.at[i, \"Publisher\"] = \"Hodder and Stoughton General Division\"\n",
    "        df.at[i, \"Image-URL-S\"] = np.nan"
   ]
  },
  {
   "cell_type": "code",
   "execution_count": 141,
   "metadata": {},
   "outputs": [],
   "source": [
    "for i in range(len(df)):\n",
    "    if df[\"Year\"][i] == \"Bart Rulon\" and df[\"Publisher\"][i] == \"2002\":\n",
    "        df.at[i, \"Title\"] = \"Artist's Photo Reference: Water and Skies\"\n",
    "        df.at[i, \"Author\"] = \"Bart Rulon\"\n",
    "        df.at[i, \"Year\"] = 2002\n",
    "        df.at[i, \"Publisher\"] = \"North Light Books\"\n",
    "        df.at[i, \"Image-URL-S\"] = np.nan"
   ]
  },
  {
   "cell_type": "code",
   "execution_count": 142,
   "metadata": {},
   "outputs": [],
   "source": [
    "for i in range(len(df)):\n",
    "    if df[\"Year\"][i] == \"Alan Rich\" and df[\"Publisher\"][i] == \"1995\":\n",
    "        df.at[i, \"Title\"] = 'Ludwig van Beethoven: Play by Play Symphony No.3 \\\\Eroica\\\\, The \"Egmont\" Overture'\n",
    "        df.at[i, \"Author\"] = \"Alan Rich\"\n",
    "        df.at[i, \"Year\"] = 1995\n",
    "        df.at[i, \"Publisher\"] = \"Harpercollins\"\n",
    "        df.at[i, \"Image-URL-S\"] = np.nan"
   ]
  },
  {
   "cell_type": "code",
   "execution_count": 143,
   "metadata": {},
   "outputs": [],
   "source": [
    "for i in range(len(df)):\n",
    "    if df[\"Year\"][i] == \"John Alderson Foote\" and df[\"Publisher\"][i] == \"1973\":\n",
    "        df.at[i, \"Title\"] = 'Pie-powder \"being dust from the law courts\"'\n",
    "        df.at[i, \"Author\"] = \"John Alderson Foote\"\n",
    "        df.at[i, \"Year\"] = 1973\n",
    "        df.at[i, \"Publisher\"] = \"EP Publishing\"\n",
    "        df.at[i, \"Image-URL-S\"] = np.nan"
   ]
  },
  {
   "cell_type": "code",
   "execution_count": 144,
   "metadata": {},
   "outputs": [],
   "source": [
    "for i in range(len(df)):\n",
    "    if df[\"Year\"][i] == \"Jules Janin\" and df[\"Publisher\"][i] == \"0\":\n",
    "        df.at[i, \"Title\"] = 'The Dead Donkey and The Guillotined Woman'\n",
    "        df.at[i, \"Author\"] = \"Jules Janin\"\n",
    "        df.at[i, \"Year\"] = 0\n",
    "        df.at[i, \"Publisher\"] = \"Gargoyle Press\"\n",
    "        df.at[i, \"Image-URL-S\"] = np.nan"
   ]
  },
  {
   "cell_type": "code",
   "execution_count": 145,
   "metadata": {},
   "outputs": [
    {
     "data": {
      "text/plain": [
       "0         2002\n",
       "1         2002\n",
       "2         2002\n",
       "3         2002\n",
       "4         2002\n",
       "          ... \n",
       "196837    1990\n",
       "196838    1995\n",
       "196839    2004\n",
       "196840    2003\n",
       "196841    1996\n",
       "Name: Year, Length: 196842, dtype: int16"
      ]
     },
     "execution_count": 145,
     "metadata": {},
     "output_type": "execute_result"
    }
   ],
   "source": [
    "pd.to_numeric(df[\"Year\"], downcast='integer')"
   ]
  },
  {
   "cell_type": "code",
   "execution_count": 146,
   "metadata": {},
   "outputs": [],
   "source": [
    "Years = pd.to_numeric(df[\"Year\"], downcast='integer')"
   ]
  },
  {
   "cell_type": "code",
   "execution_count": 147,
   "metadata": {},
   "outputs": [],
   "source": [
    "df[\"Year\"] = Years"
   ]
  },
  {
   "cell_type": "code",
   "execution_count": 148,
   "metadata": {},
   "outputs": [
    {
     "data": {
      "text/plain": [
       "0         2002\n",
       "1         2002\n",
       "2         2002\n",
       "3         2002\n",
       "4         2002\n",
       "          ... \n",
       "196837    1990\n",
       "196838    1995\n",
       "196839    2004\n",
       "196840    2003\n",
       "196841    1996\n",
       "Name: Year, Length: 196842, dtype: int16"
      ]
     },
     "execution_count": 148,
     "metadata": {},
     "output_type": "execute_result"
    }
   ],
   "source": [
    "df[\"Year\"]"
   ]
  },
  {
   "cell_type": "code",
   "execution_count": 149,
   "metadata": {},
   "outputs": [
    {
     "data": {
      "text/html": [
       "<div>\n",
       "<style scoped>\n",
       "    .dataframe tbody tr th:only-of-type {\n",
       "        vertical-align: middle;\n",
       "    }\n",
       "\n",
       "    .dataframe tbody tr th {\n",
       "        vertical-align: top;\n",
       "    }\n",
       "\n",
       "    .dataframe thead th {\n",
       "        text-align: right;\n",
       "    }\n",
       "</style>\n",
       "<table border=\"1\" class=\"dataframe\">\n",
       "  <thead>\n",
       "    <tr style=\"text-align: right;\">\n",
       "      <th></th>\n",
       "      <th>User-ID</th>\n",
       "      <th>ISBN</th>\n",
       "      <th>Rating</th>\n",
       "      <th>Location</th>\n",
       "      <th>Age</th>\n",
       "      <th>Title</th>\n",
       "      <th>Author</th>\n",
       "      <th>Year</th>\n",
       "      <th>Publisher</th>\n",
       "      <th>Image-URL-S</th>\n",
       "      <th>Image-URL-M</th>\n",
       "      <th>Image-URL-L</th>\n",
       "      <th>Unnamed: 8</th>\n",
       "      <th>Unnamed: 9</th>\n",
       "      <th>Unnamed: 10</th>\n",
       "    </tr>\n",
       "  </thead>\n",
       "  <tbody>\n",
       "  </tbody>\n",
       "</table>\n",
       "</div>"
      ],
      "text/plain": [
       "Empty DataFrame\n",
       "Columns: [User-ID, ISBN, Rating, Location, Age, Title, Author, Year, Publisher, Image-URL-S, Image-URL-M, Image-URL-L, Unnamed: 8, Unnamed: 9, Unnamed: 10]\n",
       "Index: []"
      ]
     },
     "execution_count": 149,
     "metadata": {},
     "output_type": "execute_result"
    }
   ],
   "source": [
    "df.loc[df[\"Year\"] == np.nan]"
   ]
  },
  {
   "cell_type": "code",
   "execution_count": 150,
   "metadata": {},
   "outputs": [
    {
     "data": {
      "text/plain": [
       "User-ID             0\n",
       "ISBN                0\n",
       "Rating              0\n",
       "Location            0\n",
       "Age             49193\n",
       "Title               0\n",
       "Author              1\n",
       "Year                0\n",
       "Publisher           2\n",
       "Image-URL-S        10\n",
       "Image-URL-M         0\n",
       "Image-URL-L         3\n",
       "Unnamed: 8     196829\n",
       "Unnamed: 9     196842\n",
       "Unnamed: 10    196842\n",
       "dtype: int64"
      ]
     },
     "execution_count": 150,
     "metadata": {},
     "output_type": "execute_result"
    }
   ],
   "source": [
    "df.isnull().sum()       # lots of missing values in Age."
   ]
  },
  {
   "cell_type": "code",
   "execution_count": 151,
   "metadata": {},
   "outputs": [],
   "source": [
    "# drop the merge variables \"Unnamed: x\". Moreover, we make no use of the book covers (Image-URL), though they may\n",
    "# be exploited in more sophisticated models in the future\n",
    "df.drop([\"Unnamed: 8\", \"Unnamed: 9\", \"Unnamed: 10\", \"Image-URL-S\", \"Image-URL-M\", \"Image-URL-L\"], axis = 1, inplace = True)"
   ]
  },
  {
   "cell_type": "code",
   "execution_count": 152,
   "metadata": {},
   "outputs": [
    {
     "data": {
      "text/plain": [
       "(196842, 9)"
      ]
     },
     "execution_count": 152,
     "metadata": {},
     "output_type": "execute_result"
    }
   ],
   "source": [
    "df.shape"
   ]
  },
  {
   "cell_type": "code",
   "execution_count": 153,
   "metadata": {},
   "outputs": [
    {
     "data": {
      "text/plain": [
       "User-ID          0\n",
       "ISBN             0\n",
       "Rating           0\n",
       "Location         0\n",
       "Age          49193\n",
       "Title            0\n",
       "Author           1\n",
       "Year             0\n",
       "Publisher        2\n",
       "dtype: int64"
      ]
     },
     "execution_count": 153,
     "metadata": {},
     "output_type": "execute_result"
    }
   ],
   "source": [
    "df.isnull().sum()      # basically no missing values except in Age"
   ]
  },
  {
   "cell_type": "code",
   "execution_count": 154,
   "metadata": {},
   "outputs": [
    {
     "data": {
      "text/plain": [
       "244.0"
      ]
     },
     "execution_count": 154,
     "metadata": {},
     "output_type": "execute_result"
    }
   ],
   "source": [
    "df.Age.max()"
   ]
  },
  {
   "cell_type": "code",
   "execution_count": 155,
   "metadata": {},
   "outputs": [
    {
     "data": {
      "text/html": [
       "<div>\n",
       "<style scoped>\n",
       "    .dataframe tbody tr th:only-of-type {\n",
       "        vertical-align: middle;\n",
       "    }\n",
       "\n",
       "    .dataframe tbody tr th {\n",
       "        vertical-align: top;\n",
       "    }\n",
       "\n",
       "    .dataframe thead th {\n",
       "        text-align: right;\n",
       "    }\n",
       "</style>\n",
       "<table border=\"1\" class=\"dataframe\">\n",
       "  <thead>\n",
       "    <tr style=\"text-align: right;\">\n",
       "      <th></th>\n",
       "      <th>User-ID</th>\n",
       "      <th>ISBN</th>\n",
       "      <th>Rating</th>\n",
       "      <th>Location</th>\n",
       "      <th>Age</th>\n",
       "      <th>Title</th>\n",
       "      <th>Author</th>\n",
       "      <th>Year</th>\n",
       "      <th>Publisher</th>\n",
       "    </tr>\n",
       "  </thead>\n",
       "  <tbody>\n",
       "    <tr>\n",
       "      <th>74846</th>\n",
       "      <td>20857</td>\n",
       "      <td>3257205368</td>\n",
       "      <td>6</td>\n",
       "      <td>stuttgart, baden-wuerttemberg, germany</td>\n",
       "      <td>244.0</td>\n",
       "      <td>Topkapi.</td>\n",
       "      <td>Eric Ambler</td>\n",
       "      <td>1978</td>\n",
       "      <td>Diogenes Verlag</td>\n",
       "    </tr>\n",
       "    <tr>\n",
       "      <th>75807</th>\n",
       "      <td>20857</td>\n",
       "      <td>3442447690</td>\n",
       "      <td>0</td>\n",
       "      <td>stuttgart, baden-wuerttemberg, germany</td>\n",
       "      <td>244.0</td>\n",
       "      <td>Die Tote im falschen Grab.</td>\n",
       "      <td>Ruth Rendell</td>\n",
       "      <td>2000</td>\n",
       "      <td>Goldmann</td>\n",
       "    </tr>\n",
       "    <tr>\n",
       "      <th>93793</th>\n",
       "      <td>20857</td>\n",
       "      <td>3423128399</td>\n",
       "      <td>8</td>\n",
       "      <td>stuttgart, baden-wuerttemberg, germany</td>\n",
       "      <td>244.0</td>\n",
       "      <td>Die Entdeckung der Currywurst.</td>\n",
       "      <td>Uwe Timm</td>\n",
       "      <td>2000</td>\n",
       "      <td>Dtv</td>\n",
       "    </tr>\n",
       "    <tr>\n",
       "      <th>93802</th>\n",
       "      <td>20857</td>\n",
       "      <td>345343076X</td>\n",
       "      <td>0</td>\n",
       "      <td>stuttgart, baden-wuerttemberg, germany</td>\n",
       "      <td>244.0</td>\n",
       "      <td>Dies Ist Nicht Mein Land</td>\n",
       "      <td>Fleischmann</td>\n",
       "      <td>0</td>\n",
       "      <td>Wilhelm Heyne Verlag GmbH &amp;amp; Co KG</td>\n",
       "    </tr>\n",
       "    <tr>\n",
       "      <th>93805</th>\n",
       "      <td>20857</td>\n",
       "      <td>3548602886</td>\n",
       "      <td>0</td>\n",
       "      <td>stuttgart, baden-wuerttemberg, germany</td>\n",
       "      <td>244.0</td>\n",
       "      <td>Das Blutgericht.</td>\n",
       "      <td>Kari KÃ?Â¶ster-LÃ?Â¶sche</td>\n",
       "      <td>2003</td>\n",
       "      <td>ECON-Taschenbuchverlag</td>\n",
       "    </tr>\n",
       "    <tr>\n",
       "      <th>93809</th>\n",
       "      <td>20857</td>\n",
       "      <td>3596134072</td>\n",
       "      <td>0</td>\n",
       "      <td>stuttgart, baden-wuerttemberg, germany</td>\n",
       "      <td>244.0</td>\n",
       "      <td>Wer Dornen sÃ?Â¤t.</td>\n",
       "      <td>Rebecca Ryman</td>\n",
       "      <td>2000</td>\n",
       "      <td>Fischer (Tb.), Frankfurt</td>\n",
       "    </tr>\n",
       "  </tbody>\n",
       "</table>\n",
       "</div>"
      ],
      "text/plain": [
       "       User-ID        ISBN  Rating                                Location  \\\n",
       "74846    20857  3257205368       6  stuttgart, baden-wuerttemberg, germany   \n",
       "75807    20857  3442447690       0  stuttgart, baden-wuerttemberg, germany   \n",
       "93793    20857  3423128399       8  stuttgart, baden-wuerttemberg, germany   \n",
       "93802    20857  345343076X       0  stuttgart, baden-wuerttemberg, germany   \n",
       "93805    20857  3548602886       0  stuttgart, baden-wuerttemberg, germany   \n",
       "93809    20857  3596134072       0  stuttgart, baden-wuerttemberg, germany   \n",
       "\n",
       "         Age                           Title                    Author  Year  \\\n",
       "74846  244.0                        Topkapi.               Eric Ambler  1978   \n",
       "75807  244.0      Die Tote im falschen Grab.              Ruth Rendell  2000   \n",
       "93793  244.0  Die Entdeckung der Currywurst.                  Uwe Timm  2000   \n",
       "93802  244.0        Dies Ist Nicht Mein Land               Fleischmann     0   \n",
       "93805  244.0                Das Blutgericht.  Kari KÃ?Â¶ster-LÃ?Â¶sche  2003   \n",
       "93809  244.0              Wer Dornen sÃ?Â¤t.             Rebecca Ryman  2000   \n",
       "\n",
       "                                   Publisher  \n",
       "74846                        Diogenes Verlag  \n",
       "75807                               Goldmann  \n",
       "93793                                    Dtv  \n",
       "93802  Wilhelm Heyne Verlag GmbH &amp; Co KG  \n",
       "93805                 ECON-Taschenbuchverlag  \n",
       "93809               Fischer (Tb.), Frankfurt  "
      ]
     },
     "execution_count": 155,
     "metadata": {},
     "output_type": "execute_result"
    }
   ],
   "source": [
    "df.loc[df[\"Age\"] == 244]"
   ]
  },
  {
   "cell_type": "markdown",
   "metadata": {},
   "source": [
    "__Note__: Age is missing from a lot of the instances.<br>\n",
    "And it's also very unreliable. There's people with 244 age apparently.<br>\n",
    "We checked the original csv and it's the same there. Nothing to do with code."
   ]
  },
  {
   "cell_type": "code",
   "execution_count": 156,
   "metadata": {},
   "outputs": [
    {
     "data": {
      "image/png": "[encoded data removed]",
      "text/plain": [
       "<Figure size 432x288 with 1 Axes>"
      ]
     },
     "metadata": {
      "needs_background": "light"
     },
     "output_type": "display_data"
    }
   ],
   "source": [
    "fig, ax = plt.subplots()\n",
    "ax.hist(df[\"Rating\"])\n",
    "ax.set_xlabel(\"Rating\")\n",
    "ax.set_ylabel(\"Frequency\")\n",
    "ax.set_title(\"The target variable distribution shows, a priori, that we a have lot of zeros (implicit ratings).\");"
   ]
  },
  {
   "cell_type": "markdown",
   "metadata": {},
   "source": [
    "As can be seen on the plot, there are a lot of `0` values for the Rating variable (our target)."
   ]
  },
  {
   "cell_type": "code",
   "execution_count": 157,
   "metadata": {},
   "outputs": [
    {
     "data": {
      "text/plain": [
       "116036"
      ]
     },
     "execution_count": 157,
     "metadata": {},
     "output_type": "execute_result"
    }
   ],
   "source": [
    "df[\"Rating\"].loc[df[\"Rating\"] == 0].count()"
   ]
  },
  {
   "cell_type": "code",
   "execution_count": 158,
   "metadata": {},
   "outputs": [
    {
     "name": "stdout",
     "output_type": "stream",
     "text": [
      "The total number of instances with `0` rating is 116036. This makes it, as a percent of total ratings 58.95%.\n",
      "Approximately 60% of our data is constituted by implicit ratings.\n"
     ]
    }
   ],
   "source": [
    "print(f\"The total number of instances with `0` rating is 116036. This makes it, as a percent of total ratings {round((116036/196842)*100,2)}%.\")\n",
    "print(f\"Approximately 60% of our data is constituted by implicit ratings.\")"
   ]
  },
  {
   "cell_type": "markdown",
   "metadata": {},
   "source": [
    "__From now on__ we will be dropping the implicit ratings (the zeros). According to the data set description, all zeros are implicit ratings. It is not defined, though, what an implicit rating is. We assume that it simply indicates that the user bought the book without rating it.\n",
    "We do not want to use both types of rating, explicit and implicit, in one and the same recommender system because they have very different meanings and scales (e.g. a rating change from 0 to 1 has a completely different meaning than a rating change from 1 to 2). Given that we want to build ONE recommender system, we continue using solely explicit ratings because they appear to be much more informative on whether a user liked or disliked a book. In contrast to implicit ratings, the explicit ratings clearly indicate a like or a dislike, and they also put it on a scale. Also, as they constitute more than half our data, any way of inputating implcite ratings would completely skew the distribution in regards to the actual explicit ratings we do have."
   ]
  },
  {
   "cell_type": "code",
   "execution_count": 159,
   "metadata": {},
   "outputs": [],
   "source": [
    "df2 = df[df[\"Rating\"] != 0]"
   ]
  },
  {
   "cell_type": "code",
   "execution_count": 160,
   "metadata": {},
   "outputs": [
    {
     "data": {
      "text/plain": [
       "(196842, 9)"
      ]
     },
     "execution_count": 160,
     "metadata": {},
     "output_type": "execute_result"
    }
   ],
   "source": [
    "df.shape"
   ]
  },
  {
   "cell_type": "code",
   "execution_count": 161,
   "metadata": {},
   "outputs": [
    {
     "data": {
      "text/plain": [
       "(80806, 9)"
      ]
     },
     "execution_count": 161,
     "metadata": {},
     "output_type": "execute_result"
    }
   ],
   "source": [
    "df2.shape       # 80,806 explicit ratings left"
   ]
  },
  {
   "cell_type": "markdown",
   "metadata": {},
   "source": [
    "### Visualizations for Data Exploration"
   ]
  },
  {
   "cell_type": "code",
   "execution_count": 162,
   "metadata": {},
   "outputs": [
    {
     "data": {
      "image/png": "[encoded data removed]",
      "text/plain": [
       "<Figure size 432x288 with 1 Axes>"
      ]
     },
     "metadata": {
      "needs_background": "light"
     },
     "output_type": "display_data"
    }
   ],
   "source": [
    "fig, ax = plt.subplots()\n",
    "ax.hist(df2[\"Rating\"])\n",
    "ax.set_xlabel(\"Rating\")\n",
    "ax.set_ylabel(\"Frequency\")\n",
    "ax.set_title(\"Book ratings distribution\");"
   ]
  },
  {
   "cell_type": "code",
   "execution_count": 163,
   "metadata": {},
   "outputs": [],
   "source": [
    "df3 = pd.DataFrame(df2.groupby('User-ID')['Rating'].nunique())"
   ]
  },
  {
   "cell_type": "code",
   "execution_count": 164,
   "metadata": {},
   "outputs": [
    {
     "data": {
      "image/png": "[encoded data removed]",
      "text/plain": [
       "<Figure size 432x288 with 1 Axes>"
      ]
     },
     "metadata": {},
     "output_type": "display_data"
    }
   ],
   "source": [
    "fig, ax = plt.subplots()\n",
    "ax.hist(df3[\"Rating\"])\n",
    "ax.set_xlabel(\"Rating\")\n",
    "ax.set_ylabel(\"Frequency\")\n",
    "ax.set_title(\"Ratings per user distribution\")\n",
    "fig.set_facecolor('white')\n",
    "ax.set_facecolor('white')\n",
    "ax.grid(False);"
   ]
  },
  {
   "cell_type": "code",
   "execution_count": 165,
   "metadata": {},
   "outputs": [
    {
     "data": {
      "image/png": "[encoded data removed]",
      "text/plain": [
       "<Figure size 432x288 with 1 Axes>"
      ]
     },
     "metadata": {
      "needs_background": "light"
     },
     "output_type": "display_data"
    }
   ],
   "source": [
    "fig, ax = plt.subplots()\n",
    "ax.hist(df2[\"Year\"])\n",
    "ax.set_xlabel(\"Year\")\n",
    "ax.set_ylabel(\"Frequency\")\n",
    "ax.set_title(\"Book ratings distribution by the year of publishing\");"
   ]
  },
  {
   "cell_type": "code",
   "execution_count": 166,
   "metadata": {},
   "outputs": [],
   "source": [
    "Years = pd.to_numeric(df2[\"Year\"], downcast='integer')"
   ]
  },
  {
   "cell_type": "code",
   "execution_count": 167,
   "metadata": {},
   "outputs": [
    {
     "name": "stderr",
     "output_type": "stream",
     "text": [
      "<ipython-input-167-d9db51dabe23>:1: SettingWithCopyWarning: \n",
      "A value is trying to be set on a copy of a slice from a DataFrame.\n",
      "Try using .loc[row_indexer,col_indexer] = value instead\n",
      "\n",
      "See the caveats in the documentation: https://pandas.pydata.org/pandas-docs/stable/user_guide/indexing.html#returning-a-view-versus-a-copy\n",
      "  df2[\"Year\"] = Years\n"
     ]
    }
   ],
   "source": [
    "df2[\"Year\"] = Years"
   ]
  },
  {
   "cell_type": "code",
   "execution_count": 168,
   "metadata": {},
   "outputs": [],
   "source": [
    "df2 = df2.reset_index()"
   ]
  },
  {
   "cell_type": "code",
   "execution_count": 169,
   "metadata": {},
   "outputs": [
    {
     "name": "stdout",
     "output_type": "stream",
     "text": [
      "There are 2376 instances where the year is prior to 1940.\n"
     ]
    }
   ],
   "source": [
    "#For a better visual understanding of the distributions, it is useful not to include outliers\n",
    "counter = 0\n",
    "for i in range(len(df2)):\n",
    "    if df2['Year'][i]  != 'nan':\n",
    "        if df2['Year'][i] < 1940:\n",
    "            counter = counter+1\n",
    "print(f\"There are {counter} instances where the year is prior to 1940.\")"
   ]
  },
  {
   "cell_type": "code",
   "execution_count": 170,
   "metadata": {},
   "outputs": [
    {
     "data": {
      "image/png": "[encoded data removed]",
      "text/plain": [
       "<Figure size 432x288 with 1 Axes>"
      ]
     },
     "metadata": {
      "needs_background": "light"
     },
     "output_type": "display_data"
    }
   ],
   "source": [
    "fig, ax = plt.subplots()\n",
    "ax.hist(np.clip(df2[\"Year\"], 1940, 2020))\n",
    "ax.set_xlabel(\"Year\")\n",
    "ax.set_ylabel(\"Frequency\")\n",
    "ax.set_title(\"Book ratings distribution by the year of publishing\");"
   ]
  },
  {
   "cell_type": "markdown",
   "metadata": {},
   "source": [
    "Note that this does not necessarily mean that there are more books in the dataset between 1990 to 2010, as there are multiple observations with the same book. It just means that there are more observations for books in that time interval."
   ]
  },
  {
   "cell_type": "code",
   "execution_count": 171,
   "metadata": {},
   "outputs": [
    {
     "data": {
      "image/png": "[encoded data removed]",
      "text/plain": [
       "<Figure size 432x288 with 1 Axes>"
      ]
     },
     "metadata": {
      "needs_background": "light"
     },
     "output_type": "display_data"
    }
   ],
   "source": [
    "fig, ax = plt.subplots()\n",
    "ax.hist(np.clip(df2[\"Age\"], 0, 100))\n",
    "ax.set_xlabel(\"Age\")\n",
    "ax.set_ylabel(\"Frequency\")\n",
    "ax.set_title(\"Distribution of Age feature - outliers removed\");"
   ]
  },
  {
   "cell_type": "markdown",
   "metadata": {},
   "source": [
    "It is also interesting to plot some correlations between variables:"
   ]
  },
  {
   "cell_type": "code",
   "execution_count": 172,
   "metadata": {},
   "outputs": [
    {
     "data": {
      "image/png": "[encoded data removed]",
      "text/plain": [
       "<Figure size 720x360 with 2 Axes>"
      ]
     },
     "metadata": {
      "needs_background": "light"
     },
     "output_type": "display_data"
    }
   ],
   "source": [
    "fig, ax = plt.subplots(1,1)\n",
    "hb_1 = df2[(df2[\"Year\"]>1939) & (df2[\"Year\"]<2010) & (df2[\"Age\"]<100)].plot.hexbin(x=\"Year\", y=\"Age\", C=\"Rating\", reduce_C_function=np.mean, gridsize=30, figsize=(10, 5), ax=ax);\n",
    "hb_1.collections[0].colorbar.set_label(\"Mean Rating\");\n",
    "\n",
    "ax.set_title(\"Older books receive good ratings by middle-aged users, newer books are rated by a wider age range\");"
   ]
  },
  {
   "cell_type": "markdown",
   "metadata": {},
   "source": [
    "### Important Note \n",
    "When first exploring the dataset, we thought that many instances had missing author name or missing book name. We then discovered that we actually do not have missing authors or book names. What happens is there are different ISBNs for the same book. This happens because different editions with some corrections (i.e., typos, or some phrase changes) get a new ISBN, even though they're the same book. <br> We think that it is probably a good idea not to work with the ISBN column because of this. <br><br> We checked if the Book Titles included the \"Edition\", which would lead them to appear as different names, but they do not."
   ]
  },
  {
   "cell_type": "markdown",
   "metadata": {},
   "source": [
    "## Clean datasets ready to use."
   ]
  },
  {
   "cell_type": "markdown",
   "metadata": {},
   "source": [
    "`df` is the clean dataset WITH the zero ratings.<br>\n",
    "`df2` is the clean dataset WITHOUT the zero ratings."
   ]
  },
  {
   "cell_type": "markdown",
   "metadata": {},
   "source": [
    "# __Modeling__"
   ]
  },
  {
   "cell_type": "markdown",
   "metadata": {},
   "source": [
    "We will choose one out of the following models based on its in-sample performance in terms of the Root of the Mean Squared Error (RMSE). We want to predict the rating of each book to recommend those books that a user would rate highest, and the RMSE is a measure for the error in this rating prediction. We do not rely on precision/recall at the top k recommendations because we can not observe if the users would buy our recommendations."
   ]
  },
  {
   "cell_type": "markdown",
   "metadata": {},
   "source": [
    "## Content-based recommender system"
   ]
  },
  {
   "cell_type": "markdown",
   "metadata": {},
   "source": [
    "#### Algorithm from Slides 71 & 72 of Lecture 8\n",
    "To our knowledge, there is no library to build a content-based recommender system. Therefore, we code our very own model here and stick to the algorithm presented on slides 71 & 72 of Lecture 8.\n",
    "\n",
    "We set up a feature matrix for every rating in our data set, containing dummies for authors, publishers, decades of release and/or TF-IDF values for the book title. We identify all ratings made by a single user, multiply each rating of this user with the respective features of this book. The result is a matrix where highly rated books have greater values in their features than lowly rated books. Books that a user likes should have features that a user likes, so also features that a user likes should have high values in this matrix. We take the sum along the rows of this matrix, giving us a vector with absolute feature weights for this user. Finally, we divide each element of this vector by the sum of this vector, so the sum of this new vector sums up to one and we have a vector that expresses how important each feature is to the user on a scale from 0 to 1. \n",
    "\n",
    "It turned out that this algorithm is computationally extremely expensive, especially when it comes to the point where actual predictions are produced. To give an idea, our data set excluding zero ratings contains 26,855 unique users and 40,086 unique books, so predicting a rating for each user for each book would yield 26,855*40,086 = 1,076,509,530 predictions. Therefore, we are only able to run it with a very small sample. \n",
    "\n",
    "However, using more observations would also not help to make the model better. Essentially, this algorithm creates one prediction model per user, so only more observations per user would help to improve prediction accuracy."
   ]
  },
  {
   "cell_type": "code",
   "execution_count": 173,
   "metadata": {},
   "outputs": [],
   "source": [
    "df2.sort_values(by='User-ID', inplace=True)     # just sort to have a better overview for seperating the users"
   ]
  },
  {
   "cell_type": "markdown",
   "metadata": {},
   "source": [
    "If we have a certain user in our sample, we want to have all of his ratings in our sample. Therefore, we do not choose the subsample randomly but we sort the data frame by User-ID and then take the first x observations. If we would just choose randomly, we may end up with one rating per user and our model would be relatively meaningless."
   ]
  },
  {
   "cell_type": "code",
   "execution_count": 174,
   "metadata": {},
   "outputs": [
    {
     "data": {
      "text/html": [
       "<div>\n",
       "<style scoped>\n",
       "    .dataframe tbody tr th:only-of-type {\n",
       "        vertical-align: middle;\n",
       "    }\n",
       "\n",
       "    .dataframe tbody tr th {\n",
       "        vertical-align: top;\n",
       "    }\n",
       "\n",
       "    .dataframe thead th {\n",
       "        text-align: right;\n",
       "    }\n",
       "</style>\n",
       "<table border=\"1\" class=\"dataframe\">\n",
       "  <thead>\n",
       "    <tr style=\"text-align: right;\">\n",
       "      <th></th>\n",
       "      <th>level_0</th>\n",
       "      <th>index</th>\n",
       "      <th>User-ID</th>\n",
       "      <th>ISBN</th>\n",
       "      <th>Rating</th>\n",
       "      <th>Location</th>\n",
       "      <th>Age</th>\n",
       "      <th>Title</th>\n",
       "      <th>Author</th>\n",
       "      <th>Year</th>\n",
       "      <th>Publisher</th>\n",
       "    </tr>\n",
       "  </thead>\n",
       "  <tbody>\n",
       "    <tr>\n",
       "      <th>0</th>\n",
       "      <td>10227</td>\n",
       "      <td>25761</td>\n",
       "      <td>8</td>\n",
       "      <td>1552041778</td>\n",
       "      <td>5</td>\n",
       "      <td>timmins, ontario, canada</td>\n",
       "      <td>NaN</td>\n",
       "      <td>Jane Doe</td>\n",
       "      <td>R. J. Kaiser</td>\n",
       "      <td>1999</td>\n",
       "      <td>Mira Books</td>\n",
       "    </tr>\n",
       "    <tr>\n",
       "      <th>1</th>\n",
       "      <td>10233</td>\n",
       "      <td>25774</td>\n",
       "      <td>8</td>\n",
       "      <td>1881320189</td>\n",
       "      <td>7</td>\n",
       "      <td>timmins, ontario, canada</td>\n",
       "      <td>NaN</td>\n",
       "      <td>Goodbye to the Buttermilk Sky</td>\n",
       "      <td>Julia Oliver</td>\n",
       "      <td>1994</td>\n",
       "      <td>River City Pub</td>\n",
       "    </tr>\n",
       "    <tr>\n",
       "      <th>2</th>\n",
       "      <td>10232</td>\n",
       "      <td>25771</td>\n",
       "      <td>8</td>\n",
       "      <td>1575663937</td>\n",
       "      <td>6</td>\n",
       "      <td>timmins, ontario, canada</td>\n",
       "      <td>NaN</td>\n",
       "      <td>More Cunning Than Man: A Social History of Rat...</td>\n",
       "      <td>Robert Hendrickson</td>\n",
       "      <td>1999</td>\n",
       "      <td>Kensington Publishing Corp.</td>\n",
       "    </tr>\n",
       "    <tr>\n",
       "      <th>3</th>\n",
       "      <td>10231</td>\n",
       "      <td>25770</td>\n",
       "      <td>8</td>\n",
       "      <td>1567407781</td>\n",
       "      <td>6</td>\n",
       "      <td>timmins, ontario, canada</td>\n",
       "      <td>NaN</td>\n",
       "      <td>The Witchfinder (Amos Walker Mystery Series)</td>\n",
       "      <td>Loren D. Estleman</td>\n",
       "      <td>1998</td>\n",
       "      <td>Brilliance Audio - Trade</td>\n",
       "    </tr>\n",
       "    <tr>\n",
       "      <th>4</th>\n",
       "      <td>10226</td>\n",
       "      <td>25759</td>\n",
       "      <td>8</td>\n",
       "      <td>074322678X</td>\n",
       "      <td>5</td>\n",
       "      <td>timmins, ontario, canada</td>\n",
       "      <td>NaN</td>\n",
       "      <td>Where You'll Find Me: And Other Stories</td>\n",
       "      <td>Ann Beattie</td>\n",
       "      <td>2002</td>\n",
       "      <td>Scribner</td>\n",
       "    </tr>\n",
       "    <tr>\n",
       "      <th>...</th>\n",
       "      <td>...</td>\n",
       "      <td>...</td>\n",
       "      <td>...</td>\n",
       "      <td>...</td>\n",
       "      <td>...</td>\n",
       "      <td>...</td>\n",
       "      <td>...</td>\n",
       "      <td>...</td>\n",
       "      <td>...</td>\n",
       "      <td>...</td>\n",
       "      <td>...</td>\n",
       "    </tr>\n",
       "    <tr>\n",
       "      <th>495</th>\n",
       "      <td>14008</td>\n",
       "      <td>34685</td>\n",
       "      <td>2075</td>\n",
       "      <td>3423105518</td>\n",
       "      <td>10</td>\n",
       "      <td>bonn, nordrhein-westfalen, germany</td>\n",
       "      <td>29.0</td>\n",
       "      <td>Name Der Rose</td>\n",
       "      <td>Umberto Eco</td>\n",
       "      <td>0</td>\n",
       "      <td>Distribooks Int'l+inc</td>\n",
       "    </tr>\n",
       "    <tr>\n",
       "      <th>496</th>\n",
       "      <td>14047</td>\n",
       "      <td>34738</td>\n",
       "      <td>2084</td>\n",
       "      <td>8484509125</td>\n",
       "      <td>6</td>\n",
       "      <td>logroño, la rioja, spain</td>\n",
       "      <td>21.0</td>\n",
       "      <td>El Ultimo Adios</td>\n",
       "      <td>Mary Higgins Clark</td>\n",
       "      <td>2002</td>\n",
       "      <td>Distribooks</td>\n",
       "    </tr>\n",
       "    <tr>\n",
       "      <th>497</th>\n",
       "      <td>14045</td>\n",
       "      <td>34736</td>\n",
       "      <td>2084</td>\n",
       "      <td>8484500020</td>\n",
       "      <td>8</td>\n",
       "      <td>logroño, la rioja, spain</td>\n",
       "      <td>21.0</td>\n",
       "      <td>LA Tabla De Flandes</td>\n",
       "      <td>Arturo Perez Reverte</td>\n",
       "      <td>2003</td>\n",
       "      <td>Distribooks</td>\n",
       "    </tr>\n",
       "    <tr>\n",
       "      <th>498</th>\n",
       "      <td>14033</td>\n",
       "      <td>34722</td>\n",
       "      <td>2084</td>\n",
       "      <td>8440616368</td>\n",
       "      <td>9</td>\n",
       "      <td>logroño, la rioja, spain</td>\n",
       "      <td>21.0</td>\n",
       "      <td>Ocho, El</td>\n",
       "      <td>Katherine Neville</td>\n",
       "      <td>1991</td>\n",
       "      <td>Grupo Zeta</td>\n",
       "    </tr>\n",
       "    <tr>\n",
       "      <th>499</th>\n",
       "      <td>14043</td>\n",
       "      <td>34734</td>\n",
       "      <td>2084</td>\n",
       "      <td>8477021473</td>\n",
       "      <td>8</td>\n",
       "      <td>logroño, la rioja, spain</td>\n",
       "      <td>21.0</td>\n",
       "      <td>Pozo y El Pendulo y Otras Historias Espeluzna</td>\n",
       "      <td>Edgar Allan Poe</td>\n",
       "      <td>1998</td>\n",
       "      <td>Valdemar</td>\n",
       "    </tr>\n",
       "  </tbody>\n",
       "</table>\n",
       "<p>500 rows × 11 columns</p>\n",
       "</div>"
      ],
      "text/plain": [
       "     level_0  index  User-ID        ISBN  Rating  \\\n",
       "0      10227  25761        8  1552041778       5   \n",
       "1      10233  25774        8  1881320189       7   \n",
       "2      10232  25771        8  1575663937       6   \n",
       "3      10231  25770        8  1567407781       6   \n",
       "4      10226  25759        8  074322678X       5   \n",
       "..       ...    ...      ...         ...     ...   \n",
       "495    14008  34685     2075  3423105518      10   \n",
       "496    14047  34738     2084  8484509125       6   \n",
       "497    14045  34736     2084  8484500020       8   \n",
       "498    14033  34722     2084  8440616368       9   \n",
       "499    14043  34734     2084  8477021473       8   \n",
       "\n",
       "                               Location   Age  \\\n",
       "0              timmins, ontario, canada   NaN   \n",
       "1              timmins, ontario, canada   NaN   \n",
       "2              timmins, ontario, canada   NaN   \n",
       "3              timmins, ontario, canada   NaN   \n",
       "4              timmins, ontario, canada   NaN   \n",
       "..                                  ...   ...   \n",
       "495  bonn, nordrhein-westfalen, germany  29.0   \n",
       "496            logroño, la rioja, spain  21.0   \n",
       "497            logroño, la rioja, spain  21.0   \n",
       "498            logroño, la rioja, spain  21.0   \n",
       "499            logroño, la rioja, spain  21.0   \n",
       "\n",
       "                                                 Title                Author  \\\n",
       "0                                             Jane Doe          R. J. Kaiser   \n",
       "1                        Goodbye to the Buttermilk Sky          Julia Oliver   \n",
       "2    More Cunning Than Man: A Social History of Rat...    Robert Hendrickson   \n",
       "3         The Witchfinder (Amos Walker Mystery Series)     Loren D. Estleman   \n",
       "4              Where You'll Find Me: And Other Stories           Ann Beattie   \n",
       "..                                                 ...                   ...   \n",
       "495                                      Name Der Rose           Umberto Eco   \n",
       "496                                    El Ultimo Adios    Mary Higgins Clark   \n",
       "497                                LA Tabla De Flandes  Arturo Perez Reverte   \n",
       "498                                           Ocho, El     Katherine Neville   \n",
       "499      Pozo y El Pendulo y Otras Historias Espeluzna       Edgar Allan Poe   \n",
       "\n",
       "     Year                    Publisher  \n",
       "0    1999                   Mira Books  \n",
       "1    1994               River City Pub  \n",
       "2    1999  Kensington Publishing Corp.  \n",
       "3    1998     Brilliance Audio - Trade  \n",
       "4    2002                     Scribner  \n",
       "..    ...                          ...  \n",
       "495     0        Distribooks Int'l+inc  \n",
       "496  2002                  Distribooks  \n",
       "497  2003                  Distribooks  \n",
       "498  1991                   Grupo Zeta  \n",
       "499  1998                     Valdemar  \n",
       "\n",
       "[500 rows x 11 columns]"
      ]
     },
     "execution_count": 174,
     "metadata": {},
     "output_type": "execute_result"
    }
   ],
   "source": [
    "sample = df2[:500]        # take a small sample. My laptop crashed running the code below with a sample of 1,000\n",
    "sample.reset_index(inplace = True)\n",
    "sample"
   ]
  },
  {
   "cell_type": "markdown",
   "metadata": {},
   "source": [
    "### Feature Engineering\n",
    "The issue with the features is that we should only include features that indeed drive the rating of a user. For example, if we include 'Year' (in whatever form) as a feature, we will for sure assign a certain weight to 'Year'. However, the user may actually not care at all about the year of release of the book, and thus we will make our prediction based on weights that incorrectly express the real factors that drive the user's rating. This would correspond to overfitting. Especially with only few observations per user, our model is prone to overfitting very quickly, because the user weights we estimate easily specialize on the training data with many features but few observations. On the other side, none of the features we have are very informative. The book title is probably the most relevant, though we do not have the necessary data to assign a book title to a genre or identify the 'sentiment' of a book title. Hence, we will rely on TF-IDF for the book titles to extract their information into computer-readable features (as proposed in https://medium.com/analytics-vidhya/content-based-recommender-systems-in-python-2b330e01eb80 for movie content descriptions).\n",
    "\n",
    "Moreover, we have books in several languages in our sample (as you can see from the book titles), but we do not have a variable indicating the language of a book. Ideally, we would only want to recommend books in languages that the user knows, and for sure we do not want to recommend books in languages that the user does not know. If we knew the language of a book, we may infer the languages a user knows from his rated books. (Collaborative Filtering algorithms should take care of this implicitly already)"
   ]
  },
  {
   "cell_type": "code",
   "execution_count": 175,
   "metadata": {},
   "outputs": [],
   "source": [
    "# define train and test set. Use 25% of each users ratings as test set, though at least one of his ratings must be in the \n",
    "# test set. For those users who only gave one rating, we cannot calculate a test error because we must use this one observation\n",
    "# he/she gave us for the estimation of his/her weights.\n",
    "train_dummy = np.zeros(len(sample))    # this list is to be appended to our data set later\n",
    "user_list = sample['User-ID'].unique()\n",
    "start = 0\n",
    "for user in user_list:\n",
    "    if len(sample[sample['User-ID']==user]) == 1:\n",
    "        train_dummy[start] = 1\n",
    "        start += len(sample[sample['User-ID']==user])\n",
    "        continue\n",
    "    stop = start + math.floor(len(sample[sample['User-ID']==user]) * 0.75)    # round downwards, to get sufficiently large test set also when many users only rated 2 or 3 books\n",
    "    train_dummy[start:stop] = 1\n",
    "    start += len(sample[sample['User-ID']==user])   # set start for next round of the loop at the end of current users rating block\n",
    "    "
   ]
  },
  {
   "cell_type": "code",
   "execution_count": 176,
   "metadata": {},
   "outputs": [
    {
     "data": {
      "text/plain": [
       "array([1., 1., 1., 0., 0., 1., 1., 1., 1., 1., 1., 1., 1., 1., 0., 1., 1.,\n",
       "       1., 1., 1., 0., 0., 1., 1., 1., 1., 1., 1., 1., 1., 1., 1., 1., 1.,\n",
       "       1., 1., 1., 1., 0., 0., 0., 0., 0., 0., 1., 0., 1., 0., 1., 1., 1.,\n",
       "       1., 1., 1., 0., 0., 1., 1., 0., 1., 0., 1., 1., 1., 1., 1., 1., 0.,\n",
       "       1., 1., 1., 1., 1., 1., 0., 0., 1., 1., 1., 1., 1., 1., 1., 1., 1.,\n",
       "       0., 0., 0., 1., 1., 1., 1., 0., 1., 0., 1., 1., 1., 1., 1., 0., 1.,\n",
       "       1., 1., 0., 1., 1., 1., 0., 1., 1., 1., 0., 1., 1., 1., 1., 1., 1.,\n",
       "       0., 0., 0., 1., 0., 1., 0., 1., 1., 1., 0., 0., 1., 1., 1., 1., 1.,\n",
       "       1., 1., 1., 1., 1., 1., 1., 1., 1., 1., 1., 1., 1., 1., 1., 1., 0.,\n",
       "       0., 0., 0., 0., 0., 0., 0., 1., 1., 1., 0., 0., 1., 1., 1., 1., 1.,\n",
       "       1., 1., 1., 0., 1., 1., 0., 1., 1., 1., 0., 1., 1., 1., 1., 1., 0.,\n",
       "       1., 1., 1., 1., 1., 1., 1., 1., 0., 1., 1., 1., 1., 1., 1., 1., 1.,\n",
       "       1., 1., 1., 1., 1., 1., 1., 0., 0., 0., 0., 1., 1., 1., 1., 0., 0.,\n",
       "       1., 1., 1., 0., 1., 1., 1., 0., 1., 1., 1., 1., 0., 1., 1., 1., 1.,\n",
       "       0., 1., 1., 1., 1., 1., 1., 1., 0., 1., 1., 0., 1., 1., 1., 1., 1.,\n",
       "       1., 1., 1., 0., 1., 1., 0., 1., 1., 0., 1., 1., 1., 0., 1., 1., 1.,\n",
       "       1., 1., 1., 1., 1., 1., 1., 1., 1., 1., 1., 1., 1., 1., 1., 1., 1.,\n",
       "       1., 1., 1., 1., 1., 1., 1., 1., 1., 1., 1., 1., 1., 1., 1., 1., 1.,\n",
       "       1., 0., 0., 0., 0., 0., 0., 0., 0., 0., 0., 0., 1., 1., 1., 1., 1.,\n",
       "       0., 1., 1., 1., 0., 1., 1., 1., 1., 1., 1., 1., 1., 1., 1., 1., 0.,\n",
       "       1., 1., 1., 1., 1., 1., 1., 1., 1., 1., 1., 1., 1., 1., 0., 0., 0.,\n",
       "       0., 1., 1., 1., 1., 1., 1., 0., 0., 1., 1., 1., 0., 1., 0., 1., 1.,\n",
       "       1., 1., 1., 0., 1., 1., 0., 1., 1., 1., 0., 1., 1., 1., 1., 1., 1.,\n",
       "       1., 1., 1., 1., 1., 1., 1., 1., 0., 1., 1., 1., 0., 1., 1., 1., 1.,\n",
       "       1., 1., 1., 1., 1., 1., 1., 0., 0., 0., 0., 1., 1., 1., 1., 1., 1.,\n",
       "       1., 1., 0., 1., 1., 1., 1., 1., 1., 1., 0., 1., 0., 1., 1., 1., 1.,\n",
       "       1., 1., 1., 1., 1., 1., 1., 1., 0., 0., 0., 0., 1., 1., 1., 1., 1.,\n",
       "       0., 1., 1., 1., 0., 1., 1., 1., 1., 1., 0., 1., 1., 1., 1., 1., 1.,\n",
       "       1., 1., 0., 0., 0., 1., 1., 1., 1., 1., 0., 0., 1., 1., 1., 0., 1.,\n",
       "       1., 1., 1., 1., 1., 1., 0.])"
      ]
     },
     "execution_count": 176,
     "metadata": {},
     "output_type": "execute_result"
    },
    {
     "data": {
      "text/plain": [
       "0       8\n",
       "1       8\n",
       "2       8\n",
       "3       8\n",
       "4       8\n",
       "5      12\n",
       "6      22\n",
       "7      64\n",
       "8      69\n",
       "9      70\n",
       "10     75\n",
       "11     83\n",
       "12     92\n",
       "13     92\n",
       "14     92\n",
       "15    102\n",
       "16    176\n",
       "17    183\n",
       "18    183\n",
       "19    183\n",
       "20    183\n",
       "21    183\n",
       "22    228\n",
       "23    242\n",
       "24    242\n",
       "25    242\n",
       "26    242\n",
       "27    242\n",
       "28    242\n",
       "29    242\n",
       "30    242\n",
       "31    242\n",
       "32    242\n",
       "33    242\n",
       "34    242\n",
       "35    242\n",
       "36    242\n",
       "37    242\n",
       "38    242\n",
       "39    242\n",
       "40    242\n",
       "41    242\n",
       "42    242\n",
       "43    242\n",
       "44    243\n",
       "45    243\n",
       "46    244\n",
       "47    244\n",
       "48    254\n",
       "49    254\n",
       "Name: User-ID, dtype: int64"
      ]
     },
     "execution_count": 176,
     "metadata": {},
     "output_type": "execute_result"
    }
   ],
   "source": [
    "train_dummy\n",
    "sample['User-ID'].head(50)\n",
    "# manual check if code above works. It works!"
   ]
  },
  {
   "cell_type": "code",
   "execution_count": 177,
   "metadata": {},
   "outputs": [
    {
     "name": "stdout",
     "output_type": "stream",
     "text": [
      "Size of Train set: 0.77. Size of test set: 0.22999999999999998\n"
     ]
    }
   ],
   "source": [
    "# whats the train set / test set size?\n",
    "trainset_size = sum(train_dummy)/len(train_dummy)\n",
    "print('Size of Train set: ', trainset_size, '. Size of test set: ', 1-trainset_size, sep='')"
   ]
  },
  {
   "cell_type": "code",
   "execution_count": 178,
   "metadata": {},
   "outputs": [
    {
     "name": "stderr",
     "output_type": "stream",
     "text": [
      "<ipython-input-178-aa9c875c4453>:1: SettingWithCopyWarning: \n",
      "A value is trying to be set on a copy of a slice from a DataFrame.\n",
      "Try using .loc[row_indexer,col_indexer] = value instead\n",
      "\n",
      "See the caveats in the documentation: https://pandas.pydata.org/pandas-docs/stable/user_guide/indexing.html#returning-a-view-versus-a-copy\n",
      "  sample['trainset'] = train_dummy\n"
     ]
    }
   ],
   "source": [
    "sample['trainset'] = train_dummy "
   ]
  },
  {
   "cell_type": "markdown",
   "metadata": {},
   "source": [
    "We want to make use of the publication year of a book. It might well be that a certain user preferably reads books from a certain year/decade/era. We decide to code the Year feature into century dummies. First of all, we want to use dummies because we do not believe that the goodness/popularity of a books is not a linear function of the year (a book from 1928 is not 80 units \"better\" or \"worse\" than a book from 2008), but the publication year rather expresses the writing style and genre to a certain degree. In this regard, we also believe that a book from 1974 is not much different from a book in 1975, so we group books together into centuries. "
   ]
  },
  {
   "cell_type": "code",
   "execution_count": 179,
   "metadata": {},
   "outputs": [],
   "source": [
    "# turn Year into century dummies\n",
    "before1950 = np.zeros(len(sample))\n",
    "y50s = np.zeros(len(sample))\n",
    "y60s = np.zeros(len(sample))\n",
    "y70s = np.zeros(len(sample))\n",
    "y80s = np.zeros(len(sample))\n",
    "y90s = np.zeros(len(sample))\n",
    "y2000s = np.zeros(len(sample))\n",
    "y2010s = np.zeros(len(sample))\n",
    "\n",
    "for i in range(len(sample)):\n",
    "    if sample['Year'][i] < 1950:\n",
    "        before1950[i] = 1\n",
    "    if (sample['Year'][i] >= 1950) & (sample['Year'][i] < 1960):\n",
    "        y50s[i] = 1\n",
    "    if (sample['Year'][i] >= 1960) & (sample['Year'][i] < 1970):\n",
    "        y60s[i] = 1\n",
    "    if (sample['Year'][i] >= 1970) & (sample['Year'][i] < 1980):\n",
    "        y70s[i] = 1\n",
    "    if (sample['Year'][i] >= 1980) & (sample['Year'][i] < 1990):\n",
    "        y80s[i] = 1\n",
    "    if (sample['Year'][i] >= 1990) & (sample['Year'][i] < 2000):\n",
    "        y90s[i] = 1\n",
    "    if (sample['Year'][i] >= 2000) & (sample['Year'][i] < 2010):\n",
    "        y2000s[i] = 1\n",
    "    if (sample['Year'][i] >= 2010) & (sample['Year'][i] < 2020):\n",
    "        y2010s[i] = 1"
   ]
  },
  {
   "cell_type": "code",
   "execution_count": 180,
   "metadata": {},
   "outputs": [],
   "source": [
    "year_dummies = pd.DataFrame({'before1950' : before1950,\n",
    "              'y50s' : y50s,\n",
    "              'y60s' : y60s,\n",
    "              'y70s' : y70s,\n",
    "              'y80s' : y80s,\n",
    "              'y90s' : y90s,\n",
    "              'y2000s' : y2000s,\n",
    "              'y2010s' : y2010s})"
   ]
  },
  {
   "cell_type": "code",
   "execution_count": 181,
   "metadata": {},
   "outputs": [],
   "source": [
    "# compute tf-idf for book titles\n",
    "tf = TfidfVectorizer(analyzer='word', ngram_range=(1, 2), min_df=0, stop_words='english')\n",
    "tfidf_matrix = tf.fit_transform(sample['Title'])"
   ]
  },
  {
   "cell_type": "code",
   "execution_count": 182,
   "metadata": {},
   "outputs": [
    {
     "data": {
      "text/plain": [
       "<500x3022 sparse matrix of type '<class 'numpy.float64'>'\n",
       "\twith 3855 stored elements in Compressed Sparse Row format>"
      ]
     },
     "execution_count": 182,
     "metadata": {},
     "output_type": "execute_result"
    }
   ],
   "source": [
    "tfidf_matrix"
   ]
  },
  {
   "cell_type": "code",
   "execution_count": 183,
   "metadata": {},
   "outputs": [],
   "source": [
    "# tfidf_matrix is stored as sparse bc it contains loads of zeros. But we need it in normal form, so \"unpack\" it:\n",
    "tfidf_matrix_full = pd.DataFrame(tfidf_matrix.toarray(), index=sample.index)"
   ]
  },
  {
   "cell_type": "code",
   "execution_count": 184,
   "metadata": {},
   "outputs": [
    {
     "data": {
      "text/html": [
       "<div>\n",
       "<style scoped>\n",
       "    .dataframe tbody tr th:only-of-type {\n",
       "        vertical-align: middle;\n",
       "    }\n",
       "\n",
       "    .dataframe tbody tr th {\n",
       "        vertical-align: top;\n",
       "    }\n",
       "\n",
       "    .dataframe thead th {\n",
       "        text-align: right;\n",
       "    }\n",
       "</style>\n",
       "<table border=\"1\" class=\"dataframe\">\n",
       "  <thead>\n",
       "    <tr style=\"text-align: right;\">\n",
       "      <th></th>\n",
       "      <th>0</th>\n",
       "      <th>1</th>\n",
       "      <th>2</th>\n",
       "      <th>3</th>\n",
       "      <th>4</th>\n",
       "      <th>5</th>\n",
       "      <th>6</th>\n",
       "      <th>7</th>\n",
       "      <th>8</th>\n",
       "      <th>9</th>\n",
       "      <th>...</th>\n",
       "      <th>3012</th>\n",
       "      <th>3013</th>\n",
       "      <th>3014</th>\n",
       "      <th>3015</th>\n",
       "      <th>3016</th>\n",
       "      <th>3017</th>\n",
       "      <th>3018</th>\n",
       "      <th>3019</th>\n",
       "      <th>3020</th>\n",
       "      <th>3021</th>\n",
       "    </tr>\n",
       "  </thead>\n",
       "  <tbody>\n",
       "    <tr>\n",
       "      <th>0</th>\n",
       "      <td>0.0</td>\n",
       "      <td>0.0</td>\n",
       "      <td>0.0</td>\n",
       "      <td>0.0</td>\n",
       "      <td>0.0</td>\n",
       "      <td>0.0</td>\n",
       "      <td>0.0</td>\n",
       "      <td>0.0</td>\n",
       "      <td>0.0</td>\n",
       "      <td>0.0</td>\n",
       "      <td>...</td>\n",
       "      <td>0.0</td>\n",
       "      <td>0.0</td>\n",
       "      <td>0.0</td>\n",
       "      <td>0.0</td>\n",
       "      <td>0.0</td>\n",
       "      <td>0.0</td>\n",
       "      <td>0.0</td>\n",
       "      <td>0.0</td>\n",
       "      <td>0.0</td>\n",
       "      <td>0.0</td>\n",
       "    </tr>\n",
       "    <tr>\n",
       "      <th>1</th>\n",
       "      <td>0.0</td>\n",
       "      <td>0.0</td>\n",
       "      <td>0.0</td>\n",
       "      <td>0.0</td>\n",
       "      <td>0.0</td>\n",
       "      <td>0.0</td>\n",
       "      <td>0.0</td>\n",
       "      <td>0.0</td>\n",
       "      <td>0.0</td>\n",
       "      <td>0.0</td>\n",
       "      <td>...</td>\n",
       "      <td>0.0</td>\n",
       "      <td>0.0</td>\n",
       "      <td>0.0</td>\n",
       "      <td>0.0</td>\n",
       "      <td>0.0</td>\n",
       "      <td>0.0</td>\n",
       "      <td>0.0</td>\n",
       "      <td>0.0</td>\n",
       "      <td>0.0</td>\n",
       "      <td>0.0</td>\n",
       "    </tr>\n",
       "    <tr>\n",
       "      <th>2</th>\n",
       "      <td>0.0</td>\n",
       "      <td>0.0</td>\n",
       "      <td>0.0</td>\n",
       "      <td>0.0</td>\n",
       "      <td>0.0</td>\n",
       "      <td>0.0</td>\n",
       "      <td>0.0</td>\n",
       "      <td>0.0</td>\n",
       "      <td>0.0</td>\n",
       "      <td>0.0</td>\n",
       "      <td>...</td>\n",
       "      <td>0.0</td>\n",
       "      <td>0.0</td>\n",
       "      <td>0.0</td>\n",
       "      <td>0.0</td>\n",
       "      <td>0.0</td>\n",
       "      <td>0.0</td>\n",
       "      <td>0.0</td>\n",
       "      <td>0.0</td>\n",
       "      <td>0.0</td>\n",
       "      <td>0.0</td>\n",
       "    </tr>\n",
       "    <tr>\n",
       "      <th>3</th>\n",
       "      <td>0.0</td>\n",
       "      <td>0.0</td>\n",
       "      <td>0.0</td>\n",
       "      <td>0.0</td>\n",
       "      <td>0.0</td>\n",
       "      <td>0.0</td>\n",
       "      <td>0.0</td>\n",
       "      <td>0.0</td>\n",
       "      <td>0.0</td>\n",
       "      <td>0.0</td>\n",
       "      <td>...</td>\n",
       "      <td>0.0</td>\n",
       "      <td>0.0</td>\n",
       "      <td>0.0</td>\n",
       "      <td>0.0</td>\n",
       "      <td>0.0</td>\n",
       "      <td>0.0</td>\n",
       "      <td>0.0</td>\n",
       "      <td>0.0</td>\n",
       "      <td>0.0</td>\n",
       "      <td>0.0</td>\n",
       "    </tr>\n",
       "    <tr>\n",
       "      <th>4</th>\n",
       "      <td>0.0</td>\n",
       "      <td>0.0</td>\n",
       "      <td>0.0</td>\n",
       "      <td>0.0</td>\n",
       "      <td>0.0</td>\n",
       "      <td>0.0</td>\n",
       "      <td>0.0</td>\n",
       "      <td>0.0</td>\n",
       "      <td>0.0</td>\n",
       "      <td>0.0</td>\n",
       "      <td>...</td>\n",
       "      <td>0.0</td>\n",
       "      <td>0.0</td>\n",
       "      <td>0.0</td>\n",
       "      <td>0.0</td>\n",
       "      <td>0.0</td>\n",
       "      <td>0.0</td>\n",
       "      <td>0.0</td>\n",
       "      <td>0.0</td>\n",
       "      <td>0.0</td>\n",
       "      <td>0.0</td>\n",
       "    </tr>\n",
       "    <tr>\n",
       "      <th>...</th>\n",
       "      <td>...</td>\n",
       "      <td>...</td>\n",
       "      <td>...</td>\n",
       "      <td>...</td>\n",
       "      <td>...</td>\n",
       "      <td>...</td>\n",
       "      <td>...</td>\n",
       "      <td>...</td>\n",
       "      <td>...</td>\n",
       "      <td>...</td>\n",
       "      <td>...</td>\n",
       "      <td>...</td>\n",
       "      <td>...</td>\n",
       "      <td>...</td>\n",
       "      <td>...</td>\n",
       "      <td>...</td>\n",
       "      <td>...</td>\n",
       "      <td>...</td>\n",
       "      <td>...</td>\n",
       "      <td>...</td>\n",
       "      <td>...</td>\n",
       "    </tr>\n",
       "    <tr>\n",
       "      <th>495</th>\n",
       "      <td>0.0</td>\n",
       "      <td>0.0</td>\n",
       "      <td>0.0</td>\n",
       "      <td>0.0</td>\n",
       "      <td>0.0</td>\n",
       "      <td>0.0</td>\n",
       "      <td>0.0</td>\n",
       "      <td>0.0</td>\n",
       "      <td>0.0</td>\n",
       "      <td>0.0</td>\n",
       "      <td>...</td>\n",
       "      <td>0.0</td>\n",
       "      <td>0.0</td>\n",
       "      <td>0.0</td>\n",
       "      <td>0.0</td>\n",
       "      <td>0.0</td>\n",
       "      <td>0.0</td>\n",
       "      <td>0.0</td>\n",
       "      <td>0.0</td>\n",
       "      <td>0.0</td>\n",
       "      <td>0.0</td>\n",
       "    </tr>\n",
       "    <tr>\n",
       "      <th>496</th>\n",
       "      <td>0.0</td>\n",
       "      <td>0.0</td>\n",
       "      <td>0.0</td>\n",
       "      <td>0.0</td>\n",
       "      <td>0.0</td>\n",
       "      <td>0.0</td>\n",
       "      <td>0.0</td>\n",
       "      <td>0.0</td>\n",
       "      <td>0.0</td>\n",
       "      <td>0.0</td>\n",
       "      <td>...</td>\n",
       "      <td>0.0</td>\n",
       "      <td>0.0</td>\n",
       "      <td>0.0</td>\n",
       "      <td>0.0</td>\n",
       "      <td>0.0</td>\n",
       "      <td>0.0</td>\n",
       "      <td>0.0</td>\n",
       "      <td>0.0</td>\n",
       "      <td>0.0</td>\n",
       "      <td>0.0</td>\n",
       "    </tr>\n",
       "    <tr>\n",
       "      <th>497</th>\n",
       "      <td>0.0</td>\n",
       "      <td>0.0</td>\n",
       "      <td>0.0</td>\n",
       "      <td>0.0</td>\n",
       "      <td>0.0</td>\n",
       "      <td>0.0</td>\n",
       "      <td>0.0</td>\n",
       "      <td>0.0</td>\n",
       "      <td>0.0</td>\n",
       "      <td>0.0</td>\n",
       "      <td>...</td>\n",
       "      <td>0.0</td>\n",
       "      <td>0.0</td>\n",
       "      <td>0.0</td>\n",
       "      <td>0.0</td>\n",
       "      <td>0.0</td>\n",
       "      <td>0.0</td>\n",
       "      <td>0.0</td>\n",
       "      <td>0.0</td>\n",
       "      <td>0.0</td>\n",
       "      <td>0.0</td>\n",
       "    </tr>\n",
       "    <tr>\n",
       "      <th>498</th>\n",
       "      <td>0.0</td>\n",
       "      <td>0.0</td>\n",
       "      <td>0.0</td>\n",
       "      <td>0.0</td>\n",
       "      <td>0.0</td>\n",
       "      <td>0.0</td>\n",
       "      <td>0.0</td>\n",
       "      <td>0.0</td>\n",
       "      <td>0.0</td>\n",
       "      <td>0.0</td>\n",
       "      <td>...</td>\n",
       "      <td>0.0</td>\n",
       "      <td>0.0</td>\n",
       "      <td>0.0</td>\n",
       "      <td>0.0</td>\n",
       "      <td>0.0</td>\n",
       "      <td>0.0</td>\n",
       "      <td>0.0</td>\n",
       "      <td>0.0</td>\n",
       "      <td>0.0</td>\n",
       "      <td>0.0</td>\n",
       "    </tr>\n",
       "    <tr>\n",
       "      <th>499</th>\n",
       "      <td>0.0</td>\n",
       "      <td>0.0</td>\n",
       "      <td>0.0</td>\n",
       "      <td>0.0</td>\n",
       "      <td>0.0</td>\n",
       "      <td>0.0</td>\n",
       "      <td>0.0</td>\n",
       "      <td>0.0</td>\n",
       "      <td>0.0</td>\n",
       "      <td>0.0</td>\n",
       "      <td>...</td>\n",
       "      <td>0.0</td>\n",
       "      <td>0.0</td>\n",
       "      <td>0.0</td>\n",
       "      <td>0.0</td>\n",
       "      <td>0.0</td>\n",
       "      <td>0.0</td>\n",
       "      <td>0.0</td>\n",
       "      <td>0.0</td>\n",
       "      <td>0.0</td>\n",
       "      <td>0.0</td>\n",
       "    </tr>\n",
       "  </tbody>\n",
       "</table>\n",
       "<p>500 rows × 3022 columns</p>\n",
       "</div>"
      ],
      "text/plain": [
       "     0     1     2     3     4     5     6     7     8     9     ...  3012  \\\n",
       "0     0.0   0.0   0.0   0.0   0.0   0.0   0.0   0.0   0.0   0.0  ...   0.0   \n",
       "1     0.0   0.0   0.0   0.0   0.0   0.0   0.0   0.0   0.0   0.0  ...   0.0   \n",
       "2     0.0   0.0   0.0   0.0   0.0   0.0   0.0   0.0   0.0   0.0  ...   0.0   \n",
       "3     0.0   0.0   0.0   0.0   0.0   0.0   0.0   0.0   0.0   0.0  ...   0.0   \n",
       "4     0.0   0.0   0.0   0.0   0.0   0.0   0.0   0.0   0.0   0.0  ...   0.0   \n",
       "..    ...   ...   ...   ...   ...   ...   ...   ...   ...   ...  ...   ...   \n",
       "495   0.0   0.0   0.0   0.0   0.0   0.0   0.0   0.0   0.0   0.0  ...   0.0   \n",
       "496   0.0   0.0   0.0   0.0   0.0   0.0   0.0   0.0   0.0   0.0  ...   0.0   \n",
       "497   0.0   0.0   0.0   0.0   0.0   0.0   0.0   0.0   0.0   0.0  ...   0.0   \n",
       "498   0.0   0.0   0.0   0.0   0.0   0.0   0.0   0.0   0.0   0.0  ...   0.0   \n",
       "499   0.0   0.0   0.0   0.0   0.0   0.0   0.0   0.0   0.0   0.0  ...   0.0   \n",
       "\n",
       "     3013  3014  3015  3016  3017  3018  3019  3020  3021  \n",
       "0     0.0   0.0   0.0   0.0   0.0   0.0   0.0   0.0   0.0  \n",
       "1     0.0   0.0   0.0   0.0   0.0   0.0   0.0   0.0   0.0  \n",
       "2     0.0   0.0   0.0   0.0   0.0   0.0   0.0   0.0   0.0  \n",
       "3     0.0   0.0   0.0   0.0   0.0   0.0   0.0   0.0   0.0  \n",
       "4     0.0   0.0   0.0   0.0   0.0   0.0   0.0   0.0   0.0  \n",
       "..    ...   ...   ...   ...   ...   ...   ...   ...   ...  \n",
       "495   0.0   0.0   0.0   0.0   0.0   0.0   0.0   0.0   0.0  \n",
       "496   0.0   0.0   0.0   0.0   0.0   0.0   0.0   0.0   0.0  \n",
       "497   0.0   0.0   0.0   0.0   0.0   0.0   0.0   0.0   0.0  \n",
       "498   0.0   0.0   0.0   0.0   0.0   0.0   0.0   0.0   0.0  \n",
       "499   0.0   0.0   0.0   0.0   0.0   0.0   0.0   0.0   0.0  \n",
       "\n",
       "[500 rows x 3022 columns]"
      ]
     },
     "execution_count": 184,
     "metadata": {},
     "output_type": "execute_result"
    }
   ],
   "source": [
    "tfidf_matrix_full"
   ]
  },
  {
   "cell_type": "code",
   "execution_count": 185,
   "metadata": {},
   "outputs": [
    {
     "data": {
      "text/plain": [
       "1.0"
      ]
     },
     "execution_count": 185,
     "metadata": {},
     "output_type": "execute_result"
    }
   ],
   "source": [
    "tfidf_matrix_full.max().max()"
   ]
  },
  {
   "cell_type": "code",
   "execution_count": 186,
   "metadata": {},
   "outputs": [
    {
     "data": {
      "text/plain": [
       "0.0"
      ]
     },
     "execution_count": 186,
     "metadata": {},
     "output_type": "execute_result"
    }
   ],
   "source": [
    "tfidf_matrix_full.min().min()"
   ]
  },
  {
   "cell_type": "markdown",
   "metadata": {},
   "source": [
    "The TF-IDF values range from 0 to 1.\n",
    "Thus, on average, each word or n-gram itself should receive less weight in the user_weights than the author, publisher and century"
   ]
  },
  {
   "cell_type": "markdown",
   "metadata": {},
   "source": [
    "### Content - based Modelling"
   ]
  },
  {
   "cell_type": "code",
   "execution_count": 187,
   "metadata": {},
   "outputs": [],
   "source": [
    "def content_recommender_predictions(complete_data, features):\n",
    "    # function to compute predictions for book ratings, based on algorithm outlined on slide 71 & 72 of Lecture 7.\n",
    "    # complete_data must contain User-ID, Book Title, Rating, all book features that should be considered and a columns called\n",
    "    # trainset which indicates if this row should be considered for weight computation. \n",
    "    # features must be a matrix containing only the features to be consiered.\n",
    "    # features and complete_data must have the same index!\n",
    "    \n",
    "    weighted_features = features.mul(complete_data['Rating'], axis=0)\n",
    "    \n",
    "    user_list = complete_data['User-ID'].unique()                           # set up user list to loop through later\n",
    "    user_weights = np.empty((len(user_list),len(features.columns),))   # set up weight matrix to be filled up in the loop\n",
    "    user_weights[:] = np.nan                                           # fill matrix with NaN to be able to check later if loop worked\n",
    "    user_weights = pd.DataFrame(user_weights, columns = features.columns, index = user_list)    # turn into dataframe, index is user-id\n",
    "    \n",
    "    # for each user, compute the weights he/she puts on each feature (according to previous ratings). Add this weight vector to the user weights matrix\n",
    "    for user in user_list:\n",
    "        norm_weighted_features = weighted_features[(complete_data['User-ID']==user) & (complete_data['trainset']==1)].sum(axis=0)/weighted_features[(complete_data['User-ID']==user) & (complete_data['trainset']==1)].sum(axis=0).sum()\n",
    "        user_weights.loc[user,:] = norm_weighted_features\n",
    "    \n",
    "    \n",
    "    # now make predictions\n",
    "    # initiate a dataframe with multiindex User-ID, Book Title to store the predictions in\n",
    "    \n",
    "    # first create indices\n",
    "    book_list = complete_data['Title'].unique()\n",
    "    user_index = list(np.repeat(user_list, len(book_list)))\n",
    "    title_index = []\n",
    "    for i in range(len(user_list)):\n",
    "        for j in range(len(book_list)):\n",
    "            title_index.append((book_list[j]))\n",
    "    \n",
    "    # initiate predictions dataframe\n",
    "    predictions = np.empty(len(user_list)*len(book_list))\n",
    "    predictions[:] = np.nan\n",
    "    predictions = pd.DataFrame(predictions, index = [user_index, title_index])\n",
    "    \n",
    "    # compute predictions\n",
    "    for user in user_list:          # for each user\n",
    "        for book in book_list:      # for each book (regardless whether it is in train or test set)\n",
    "            predictions.loc[user, book] = (user_weights.loc[user, :] * features[complete_data['Title']==book].iloc[0, :]).sum() * 10\n",
    "    \n",
    "    # Here we only produced predictions for books that are in the subsample of our rating dataset. In theory, we could\n",
    "    # expand our predictions to all books in our books dataset (df_books), but this would be way too computationally\n",
    "    # expensive (with 270,000 predictions per user, with 27,000 users (who gave non-zero ratings): \n",
    "    # 270,000*27,000 = 7,290,000,000 predictions). With enough computation power, though, no problemo.\n",
    "    \n",
    "    return predictions"
   ]
  },
  {
   "cell_type": "code",
   "execution_count": 188,
   "metadata": {},
   "outputs": [],
   "source": [
    "def content_recommender_rmse(complete_data, features):\n",
    "    # This function returns the RMSE of a the recommender system built in content_recommender_predictions().\n",
    "    # It calls content_recommender_predictions() and compares its predictions for the test set, that is defined\n",
    "    # by the column trainset in complete_data, with the actual ratings.\n",
    "    \n",
    "    predictions = content_recommender_predictions(complete_data, features)\n",
    "    \n",
    "    testset = complete_data[complete_data['trainset'] == 0]\n",
    "    \n",
    "    errors = []\n",
    "    for user in user_list:\n",
    "        books_to_test = testset[testset['User-ID']==user]['Title'].reset_index().drop(columns='index')\n",
    "        for i in range(len(books_to_test)):\n",
    "            prediction = predictions.loc[user, books_to_test.iloc[i,0]][0]\n",
    "            actual_value = testset[(testset['User-ID'] == user) & (testset['Title'] == books_to_test.iloc[i,0])]['Rating'].reset_index().drop(columns = 'index').iloc[0][0]\n",
    "            errors.append(actual_value - prediction)\n",
    "            \n",
    "    errors = np.array(errors)\n",
    "    squared_errors = errors**2\n",
    "    mean_squared_error = sum(squared_errors)/len(squared_errors)\n",
    "    rmse = math.sqrt(mean_squared_error)\n",
    "    return rmse"
   ]
  },
  {
   "cell_type": "code",
   "execution_count": 189,
   "metadata": {},
   "outputs": [],
   "source": [
    "# get data sets with different combinations of features to put into content_recommender_rmse()\n",
    "\n",
    "# similarly to the Year feature, we believe that dummies for author and publisher may be informative for the\n",
    "# content/genre/style of a book.\n",
    "sample_author = pd.get_dummies(sample, columns = ['Author'])\n",
    "sample_publisher = pd.get_dummies(sample, columns = ['Publisher'])\n",
    "sample_author_publisher = pd.get_dummies(sample, columns = ['Author','Publisher'])\n",
    "\n",
    "sample_tfidf = pd.concat([sample, tfidf_matrix_full], axis=1)\n",
    "sample_author_tfidf = pd.concat([sample_author, tfidf_matrix_full], axis=1)\n",
    "sample_publisher_tfidf = pd.concat([sample_publisher, tfidf_matrix_full], axis=1)\n",
    "sample_author_publisher_tfidf = pd.concat([sample_author_publisher, tfidf_matrix_full], axis=1)\n",
    "sample_author_publisher_year =  pd.concat([sample_author_publisher, year_dummies], axis=1)\n",
    "sample_author_publisher_year_tfidf =  pd.concat([sample_author_publisher_year, tfidf_matrix_full], axis=1)\n",
    "\n",
    "features_author = sample_author.drop(columns = ['level_0', 'index', 'User-ID', 'ISBN', 'Rating', 'Location', 'Age', 'Title', 'Year', 'Publisher', 'trainset'])\n",
    "features_publisher = sample_publisher.drop(columns = ['level_0', 'index', 'User-ID', 'ISBN', 'Rating', 'Location', 'Age', 'Title', 'Year', 'Author', 'trainset'])\n",
    "features_author_publisher = sample_author_publisher.drop(columns = ['level_0', 'index', 'User-ID', 'ISBN', 'Rating', 'Location', 'Age', 'Title', 'Year', 'trainset'])\n",
    "features_tfidf = sample_tfidf.drop(columns = ['level_0', 'index', 'User-ID', 'ISBN', 'Rating', 'Location', 'Age', 'Title', 'Year', 'Author','Publisher', 'trainset'])\n",
    "features_author_tfidf = sample_author_tfidf.drop(columns = ['level_0', 'index', 'User-ID', 'ISBN', 'Rating', 'Location', 'Age', 'Title', 'Year', 'Publisher', 'trainset'])\n",
    "features_publisher_tfidf = sample_publisher_tfidf.drop(columns = ['level_0', 'index', 'User-ID', 'ISBN', 'Rating', 'Location', 'Age', 'Title', 'Author', 'Year', 'trainset'])\n",
    "features_author_publisher_tfidf = sample_author_publisher_tfidf.drop(columns = ['level_0', 'index', 'User-ID', 'ISBN', 'Rating', 'Location', 'Age', 'Title', 'Year', 'trainset'])\n",
    "features_author_publisher_year = sample_author_publisher_year.drop(columns = ['level_0', 'index', 'User-ID', 'ISBN', 'Rating', 'Location', 'Age', 'Title', 'Year', 'trainset'])\n",
    "features_author_publisher_year_tfidf = sample_author_publisher_year_tfidf.drop(columns = ['level_0', 'index', 'User-ID', 'ISBN', 'Rating', 'Location', 'Age', 'Title', 'Year', 'trainset'])"
   ]
  },
  {
   "cell_type": "code",
   "execution_count": 190,
   "metadata": {},
   "outputs": [
    {
     "name": "stdout",
     "output_type": "stream",
     "text": [
      "author:  7.731857110981557\n",
      "publisher:  7.596507742851679\n",
      "author, publisher:  7.616147971094236\n",
      "tfidf:  7.945855008052587\n",
      "author, tfidf:  7.854145123040985\n",
      "publisher, tfidf:  7.81811845652285\n",
      "author, publisher, tfidf:  7.774287225594564\n",
      "author, publisher, year:  6.654066221632632\n",
      "author, publisher, year, tfidf:  7.200462136737049\n"
     ]
    }
   ],
   "source": [
    "print('author: ', content_recommender_rmse(sample_author, features_author))\n",
    "print('publisher: ', content_recommender_rmse(sample_publisher, features_publisher))\n",
    "print('author, publisher: ', content_recommender_rmse(sample_author_publisher, features_author_publisher))\n",
    "print('tfidf: ', content_recommender_rmse(sample_tfidf, features_tfidf))\n",
    "print('author, tfidf: ', content_recommender_rmse(sample_author_tfidf, features_author_tfidf))\n",
    "print('publisher, tfidf: ', content_recommender_rmse(sample_publisher_tfidf, features_publisher_tfidf))\n",
    "print('author, publisher, tfidf: ', content_recommender_rmse(sample_author_publisher_tfidf, features_author_publisher_tfidf))\n",
    "print('author, publisher, year: ', content_recommender_rmse(sample_author_publisher_year, features_author_publisher_year))\n",
    "print('author, publisher, year, tfidf: ', content_recommender_rmse(sample_author_publisher_year_tfidf, features_author_publisher_year_tfidf))"
   ]
  },
  {
   "cell_type": "markdown",
   "metadata": {},
   "source": [
    "#### Does not look good. Content-based model is not viable with regards to the data we have."
   ]
  },
  {
   "cell_type": "markdown",
   "metadata": {},
   "source": [
    " "
   ]
  },
  {
   "cell_type": "markdown",
   "metadata": {},
   "source": [
    "#### Cluster book titles?\n",
    "We could try to compute TF-IDF for the book title and apply a clustering algorithm based on the TF-IDF values to group similar titles together. Using clustered book titles as features may prevent overfitting in a content-based recommender system.\n",
    "\n",
    "We need a good amount of observations to obtain a reasonable clustering."
   ]
  },
  {
   "cell_type": "code",
   "execution_count": 191,
   "metadata": {},
   "outputs": [
    {
     "data": {
      "text/plain": [
       "KMeans(n_clusters=1, random_state=42)"
      ]
     },
     "execution_count": 191,
     "metadata": {},
     "output_type": "execute_result"
    },
    {
     "data": {
      "text/plain": [
       "KMeans(n_clusters=2, random_state=42)"
      ]
     },
     "execution_count": 191,
     "metadata": {},
     "output_type": "execute_result"
    },
    {
     "data": {
      "text/plain": [
       "KMeans(n_clusters=3, random_state=42)"
      ]
     },
     "execution_count": 191,
     "metadata": {},
     "output_type": "execute_result"
    },
    {
     "data": {
      "text/plain": [
       "KMeans(n_clusters=4, random_state=42)"
      ]
     },
     "execution_count": 191,
     "metadata": {},
     "output_type": "execute_result"
    },
    {
     "data": {
      "text/plain": [
       "KMeans(n_clusters=5, random_state=42)"
      ]
     },
     "execution_count": 191,
     "metadata": {},
     "output_type": "execute_result"
    },
    {
     "data": {
      "text/plain": [
       "KMeans(n_clusters=6, random_state=42)"
      ]
     },
     "execution_count": 191,
     "metadata": {},
     "output_type": "execute_result"
    },
    {
     "data": {
      "text/plain": [
       "KMeans(n_clusters=7, random_state=42)"
      ]
     },
     "execution_count": 191,
     "metadata": {},
     "output_type": "execute_result"
    },
    {
     "data": {
      "text/plain": [
       "KMeans(random_state=42)"
      ]
     },
     "execution_count": 191,
     "metadata": {},
     "output_type": "execute_result"
    },
    {
     "data": {
      "text/plain": [
       "KMeans(n_clusters=9, random_state=42)"
      ]
     },
     "execution_count": 191,
     "metadata": {},
     "output_type": "execute_result"
    },
    {
     "data": {
      "text/plain": [
       "KMeans(n_clusters=10, random_state=42)"
      ]
     },
     "execution_count": 191,
     "metadata": {},
     "output_type": "execute_result"
    },
    {
     "data": {
      "text/plain": [
       "KMeans(n_clusters=11, random_state=42)"
      ]
     },
     "execution_count": 191,
     "metadata": {},
     "output_type": "execute_result"
    },
    {
     "data": {
      "text/plain": [
       "KMeans(n_clusters=12, random_state=42)"
      ]
     },
     "execution_count": 191,
     "metadata": {},
     "output_type": "execute_result"
    },
    {
     "data": {
      "text/plain": [
       "KMeans(n_clusters=13, random_state=42)"
      ]
     },
     "execution_count": 191,
     "metadata": {},
     "output_type": "execute_result"
    },
    {
     "data": {
      "text/plain": [
       "KMeans(n_clusters=14, random_state=42)"
      ]
     },
     "execution_count": 191,
     "metadata": {},
     "output_type": "execute_result"
    },
    {
     "data": {
      "text/plain": [
       "KMeans(n_clusters=15, random_state=42)"
      ]
     },
     "execution_count": 191,
     "metadata": {},
     "output_type": "execute_result"
    },
    {
     "data": {
      "text/plain": [
       "KMeans(n_clusters=16, random_state=42)"
      ]
     },
     "execution_count": 191,
     "metadata": {},
     "output_type": "execute_result"
    },
    {
     "data": {
      "text/plain": [
       "KMeans(n_clusters=17, random_state=42)"
      ]
     },
     "execution_count": 191,
     "metadata": {},
     "output_type": "execute_result"
    },
    {
     "data": {
      "text/plain": [
       "KMeans(n_clusters=18, random_state=42)"
      ]
     },
     "execution_count": 191,
     "metadata": {},
     "output_type": "execute_result"
    },
    {
     "data": {
      "text/plain": [
       "KMeans(n_clusters=19, random_state=42)"
      ]
     },
     "execution_count": 191,
     "metadata": {},
     "output_type": "execute_result"
    },
    {
     "data": {
      "text/plain": [
       "KMeans(n_clusters=20, random_state=42)"
      ]
     },
     "execution_count": 191,
     "metadata": {},
     "output_type": "execute_result"
    },
    {
     "data": {
      "text/plain": [
       "KMeans(n_clusters=21, random_state=42)"
      ]
     },
     "execution_count": 191,
     "metadata": {},
     "output_type": "execute_result"
    },
    {
     "data": {
      "text/plain": [
       "KMeans(n_clusters=22, random_state=42)"
      ]
     },
     "execution_count": 191,
     "metadata": {},
     "output_type": "execute_result"
    },
    {
     "data": {
      "text/plain": [
       "KMeans(n_clusters=23, random_state=42)"
      ]
     },
     "execution_count": 191,
     "metadata": {},
     "output_type": "execute_result"
    },
    {
     "data": {
      "text/plain": [
       "KMeans(n_clusters=24, random_state=42)"
      ]
     },
     "execution_count": 191,
     "metadata": {},
     "output_type": "execute_result"
    },
    {
     "data": {
      "text/plain": [
       "KMeans(n_clusters=25, random_state=42)"
      ]
     },
     "execution_count": 191,
     "metadata": {},
     "output_type": "execute_result"
    },
    {
     "data": {
      "text/plain": [
       "KMeans(n_clusters=26, random_state=42)"
      ]
     },
     "execution_count": 191,
     "metadata": {},
     "output_type": "execute_result"
    },
    {
     "data": {
      "text/plain": [
       "KMeans(n_clusters=27, random_state=42)"
      ]
     },
     "execution_count": 191,
     "metadata": {},
     "output_type": "execute_result"
    },
    {
     "data": {
      "text/plain": [
       "KMeans(n_clusters=28, random_state=42)"
      ]
     },
     "execution_count": 191,
     "metadata": {},
     "output_type": "execute_result"
    },
    {
     "data": {
      "text/plain": [
       "KMeans(n_clusters=29, random_state=42)"
      ]
     },
     "execution_count": 191,
     "metadata": {},
     "output_type": "execute_result"
    },
    {
     "data": {
      "text/plain": [
       "KMeans(n_clusters=30, random_state=42)"
      ]
     },
     "execution_count": 191,
     "metadata": {},
     "output_type": "execute_result"
    },
    {
     "data": {
      "text/plain": [
       "KMeans(n_clusters=31, random_state=42)"
      ]
     },
     "execution_count": 191,
     "metadata": {},
     "output_type": "execute_result"
    },
    {
     "data": {
      "text/plain": [
       "KMeans(n_clusters=32, random_state=42)"
      ]
     },
     "execution_count": 191,
     "metadata": {},
     "output_type": "execute_result"
    },
    {
     "data": {
      "text/plain": [
       "KMeans(n_clusters=33, random_state=42)"
      ]
     },
     "execution_count": 191,
     "metadata": {},
     "output_type": "execute_result"
    },
    {
     "data": {
      "text/plain": [
       "KMeans(n_clusters=34, random_state=42)"
      ]
     },
     "execution_count": 191,
     "metadata": {},
     "output_type": "execute_result"
    },
    {
     "data": {
      "text/plain": [
       "KMeans(n_clusters=35, random_state=42)"
      ]
     },
     "execution_count": 191,
     "metadata": {},
     "output_type": "execute_result"
    },
    {
     "data": {
      "text/plain": [
       "KMeans(n_clusters=36, random_state=42)"
      ]
     },
     "execution_count": 191,
     "metadata": {},
     "output_type": "execute_result"
    },
    {
     "data": {
      "text/plain": [
       "KMeans(n_clusters=37, random_state=42)"
      ]
     },
     "execution_count": 191,
     "metadata": {},
     "output_type": "execute_result"
    },
    {
     "data": {
      "text/plain": [
       "KMeans(n_clusters=38, random_state=42)"
      ]
     },
     "execution_count": 191,
     "metadata": {},
     "output_type": "execute_result"
    },
    {
     "data": {
      "text/plain": [
       "KMeans(n_clusters=39, random_state=42)"
      ]
     },
     "execution_count": 191,
     "metadata": {},
     "output_type": "execute_result"
    },
    {
     "data": {
      "text/plain": [
       "KMeans(n_clusters=40, random_state=42)"
      ]
     },
     "execution_count": 191,
     "metadata": {},
     "output_type": "execute_result"
    },
    {
     "data": {
      "text/plain": [
       "KMeans(n_clusters=41, random_state=42)"
      ]
     },
     "execution_count": 191,
     "metadata": {},
     "output_type": "execute_result"
    },
    {
     "data": {
      "text/plain": [
       "KMeans(n_clusters=42, random_state=42)"
      ]
     },
     "execution_count": 191,
     "metadata": {},
     "output_type": "execute_result"
    },
    {
     "data": {
      "text/plain": [
       "KMeans(n_clusters=43, random_state=42)"
      ]
     },
     "execution_count": 191,
     "metadata": {},
     "output_type": "execute_result"
    },
    {
     "data": {
      "text/plain": [
       "KMeans(n_clusters=44, random_state=42)"
      ]
     },
     "execution_count": 191,
     "metadata": {},
     "output_type": "execute_result"
    },
    {
     "data": {
      "text/plain": [
       "KMeans(n_clusters=45, random_state=42)"
      ]
     },
     "execution_count": 191,
     "metadata": {},
     "output_type": "execute_result"
    },
    {
     "data": {
      "text/plain": [
       "KMeans(n_clusters=46, random_state=42)"
      ]
     },
     "execution_count": 191,
     "metadata": {},
     "output_type": "execute_result"
    },
    {
     "data": {
      "text/plain": [
       "KMeans(n_clusters=47, random_state=42)"
      ]
     },
     "execution_count": 191,
     "metadata": {},
     "output_type": "execute_result"
    },
    {
     "data": {
      "text/plain": [
       "KMeans(n_clusters=48, random_state=42)"
      ]
     },
     "execution_count": 191,
     "metadata": {},
     "output_type": "execute_result"
    },
    {
     "data": {
      "text/plain": [
       "KMeans(n_clusters=49, random_state=42)"
      ]
     },
     "execution_count": 191,
     "metadata": {},
     "output_type": "execute_result"
    },
    {
     "data": {
      "text/plain": [
       "KMeans(n_clusters=50, random_state=42)"
      ]
     },
     "execution_count": 191,
     "metadata": {},
     "output_type": "execute_result"
    },
    {
     "data": {
      "text/plain": [
       "KMeans(n_clusters=51, random_state=42)"
      ]
     },
     "execution_count": 191,
     "metadata": {},
     "output_type": "execute_result"
    },
    {
     "data": {
      "text/plain": [
       "KMeans(n_clusters=52, random_state=42)"
      ]
     },
     "execution_count": 191,
     "metadata": {},
     "output_type": "execute_result"
    },
    {
     "data": {
      "text/plain": [
       "KMeans(n_clusters=53, random_state=42)"
      ]
     },
     "execution_count": 191,
     "metadata": {},
     "output_type": "execute_result"
    },
    {
     "data": {
      "text/plain": [
       "KMeans(n_clusters=54, random_state=42)"
      ]
     },
     "execution_count": 191,
     "metadata": {},
     "output_type": "execute_result"
    },
    {
     "data": {
      "text/plain": [
       "KMeans(n_clusters=55, random_state=42)"
      ]
     },
     "execution_count": 191,
     "metadata": {},
     "output_type": "execute_result"
    },
    {
     "data": {
      "text/plain": [
       "KMeans(n_clusters=56, random_state=42)"
      ]
     },
     "execution_count": 191,
     "metadata": {},
     "output_type": "execute_result"
    },
    {
     "data": {
      "text/plain": [
       "KMeans(n_clusters=57, random_state=42)"
      ]
     },
     "execution_count": 191,
     "metadata": {},
     "output_type": "execute_result"
    },
    {
     "data": {
      "text/plain": [
       "KMeans(n_clusters=58, random_state=42)"
      ]
     },
     "execution_count": 191,
     "metadata": {},
     "output_type": "execute_result"
    },
    {
     "data": {
      "text/plain": [
       "KMeans(n_clusters=59, random_state=42)"
      ]
     },
     "execution_count": 191,
     "metadata": {},
     "output_type": "execute_result"
    },
    {
     "data": {
      "text/plain": [
       "KMeans(n_clusters=60, random_state=42)"
      ]
     },
     "execution_count": 191,
     "metadata": {},
     "output_type": "execute_result"
    },
    {
     "data": {
      "text/plain": [
       "KMeans(n_clusters=61, random_state=42)"
      ]
     },
     "execution_count": 191,
     "metadata": {},
     "output_type": "execute_result"
    },
    {
     "data": {
      "text/plain": [
       "KMeans(n_clusters=62, random_state=42)"
      ]
     },
     "execution_count": 191,
     "metadata": {},
     "output_type": "execute_result"
    },
    {
     "data": {
      "text/plain": [
       "KMeans(n_clusters=63, random_state=42)"
      ]
     },
     "execution_count": 191,
     "metadata": {},
     "output_type": "execute_result"
    },
    {
     "data": {
      "text/plain": [
       "KMeans(n_clusters=64, random_state=42)"
      ]
     },
     "execution_count": 191,
     "metadata": {},
     "output_type": "execute_result"
    },
    {
     "data": {
      "text/plain": [
       "KMeans(n_clusters=65, random_state=42)"
      ]
     },
     "execution_count": 191,
     "metadata": {},
     "output_type": "execute_result"
    },
    {
     "data": {
      "text/plain": [
       "KMeans(n_clusters=66, random_state=42)"
      ]
     },
     "execution_count": 191,
     "metadata": {},
     "output_type": "execute_result"
    },
    {
     "data": {
      "text/plain": [
       "KMeans(n_clusters=67, random_state=42)"
      ]
     },
     "execution_count": 191,
     "metadata": {},
     "output_type": "execute_result"
    },
    {
     "data": {
      "text/plain": [
       "KMeans(n_clusters=68, random_state=42)"
      ]
     },
     "execution_count": 191,
     "metadata": {},
     "output_type": "execute_result"
    },
    {
     "data": {
      "text/plain": [
       "KMeans(n_clusters=69, random_state=42)"
      ]
     },
     "execution_count": 191,
     "metadata": {},
     "output_type": "execute_result"
    },
    {
     "data": {
      "text/plain": [
       "KMeans(n_clusters=70, random_state=42)"
      ]
     },
     "execution_count": 191,
     "metadata": {},
     "output_type": "execute_result"
    },
    {
     "data": {
      "text/plain": [
       "KMeans(n_clusters=71, random_state=42)"
      ]
     },
     "execution_count": 191,
     "metadata": {},
     "output_type": "execute_result"
    },
    {
     "data": {
      "text/plain": [
       "KMeans(n_clusters=72, random_state=42)"
      ]
     },
     "execution_count": 191,
     "metadata": {},
     "output_type": "execute_result"
    },
    {
     "data": {
      "text/plain": [
       "KMeans(n_clusters=73, random_state=42)"
      ]
     },
     "execution_count": 191,
     "metadata": {},
     "output_type": "execute_result"
    },
    {
     "data": {
      "text/plain": [
       "KMeans(n_clusters=74, random_state=42)"
      ]
     },
     "execution_count": 191,
     "metadata": {},
     "output_type": "execute_result"
    },
    {
     "data": {
      "text/plain": [
       "KMeans(n_clusters=75, random_state=42)"
      ]
     },
     "execution_count": 191,
     "metadata": {},
     "output_type": "execute_result"
    },
    {
     "data": {
      "text/plain": [
       "KMeans(n_clusters=76, random_state=42)"
      ]
     },
     "execution_count": 191,
     "metadata": {},
     "output_type": "execute_result"
    },
    {
     "data": {
      "text/plain": [
       "KMeans(n_clusters=77, random_state=42)"
      ]
     },
     "execution_count": 191,
     "metadata": {},
     "output_type": "execute_result"
    },
    {
     "data": {
      "text/plain": [
       "KMeans(n_clusters=78, random_state=42)"
      ]
     },
     "execution_count": 191,
     "metadata": {},
     "output_type": "execute_result"
    },
    {
     "data": {
      "text/plain": [
       "KMeans(n_clusters=79, random_state=42)"
      ]
     },
     "execution_count": 191,
     "metadata": {},
     "output_type": "execute_result"
    },
    {
     "data": {
      "text/plain": [
       "KMeans(n_clusters=80, random_state=42)"
      ]
     },
     "execution_count": 191,
     "metadata": {},
     "output_type": "execute_result"
    },
    {
     "data": {
      "text/plain": [
       "KMeans(n_clusters=81, random_state=42)"
      ]
     },
     "execution_count": 191,
     "metadata": {},
     "output_type": "execute_result"
    },
    {
     "data": {
      "text/plain": [
       "KMeans(n_clusters=82, random_state=42)"
      ]
     },
     "execution_count": 191,
     "metadata": {},
     "output_type": "execute_result"
    },
    {
     "data": {
      "text/plain": [
       "KMeans(n_clusters=83, random_state=42)"
      ]
     },
     "execution_count": 191,
     "metadata": {},
     "output_type": "execute_result"
    },
    {
     "data": {
      "text/plain": [
       "KMeans(n_clusters=84, random_state=42)"
      ]
     },
     "execution_count": 191,
     "metadata": {},
     "output_type": "execute_result"
    },
    {
     "data": {
      "text/plain": [
       "KMeans(n_clusters=85, random_state=42)"
      ]
     },
     "execution_count": 191,
     "metadata": {},
     "output_type": "execute_result"
    },
    {
     "data": {
      "text/plain": [
       "KMeans(n_clusters=86, random_state=42)"
      ]
     },
     "execution_count": 191,
     "metadata": {},
     "output_type": "execute_result"
    },
    {
     "data": {
      "text/plain": [
       "KMeans(n_clusters=87, random_state=42)"
      ]
     },
     "execution_count": 191,
     "metadata": {},
     "output_type": "execute_result"
    },
    {
     "data": {
      "text/plain": [
       "KMeans(n_clusters=88, random_state=42)"
      ]
     },
     "execution_count": 191,
     "metadata": {},
     "output_type": "execute_result"
    },
    {
     "data": {
      "text/plain": [
       "KMeans(n_clusters=89, random_state=42)"
      ]
     },
     "execution_count": 191,
     "metadata": {},
     "output_type": "execute_result"
    }
   ],
   "source": [
    "kmeans_kwargs = {\n",
    "      \"init\": 'k-means++',\n",
    "       \"n_init\": 10,\n",
    "       \"max_iter\": 300,\n",
    "       \"random_state\": 42,\n",
    " }\n",
    "\n",
    "# A list holds the SSE values for each k\n",
    "sse = []\n",
    "for k in range(1, 90):\n",
    "     kmeans = KMeans(n_clusters=k, **kmeans_kwargs);\n",
    "     kmeans.fit(tfidf_matrix_full);\n",
    "     sse.append(kmeans.inertia_);"
   ]
  },
  {
   "cell_type": "code",
   "execution_count": 192,
   "metadata": {},
   "outputs": [
    {
     "data": {
      "image/png": "[encoded data removed]",
      "text/plain": [
       "<Figure size 432x288 with 1 Axes>"
      ]
     },
     "metadata": {},
     "output_type": "display_data"
    }
   ],
   "source": [
    "plt.style.use(\"fivethirtyeight\");\n",
    "plt.plot(range(1, 90), sse);\n",
    "plt.xticks(range(1, 90, 10));\n",
    "plt.xlabel(\"Number of Clusters\");\n",
    "plt.ylabel(\"SSE\");\n",
    "plt.title(\"Seems like there are no clusters in Book Title\")\n",
    "plt.show();"
   ]
  },
  {
   "cell_type": "markdown",
   "metadata": {},
   "source": [
    "## Conclusion on content-based recommender system\n",
    "Our content-based recommender systems using different combinations of features all perform very poorly. This is because we do not have sufficient data that describes the content of a book. Collaborative filtering is probably better at recommending because it does not exploit features to infer on the content of a book but it exploits users' rating behaviour. This rating behaviour probably implicitly says more about the content of books than the features we have in our data set.\n",
    "\n",
    "Adding more observations to our training set in the content-based recommender system would probably not help to reduce the prediction error because we need more observations per user. Adding observations of other users does not help. We are basically estimating a one model per user, so adding more users does not help with our prediction precision."
   ]
  },
  {
   "cell_type": "markdown",
   "metadata": {},
   "source": [
    "## Collaborative Filtering "
   ]
  },
  {
   "cell_type": "code",
   "execution_count": 193,
   "metadata": {},
   "outputs": [],
   "source": [
    "# We only need userID, Title and rating. We use Title as item identifier instead of ISBN, because different\n",
    "# editions of the same book have different ISBN. So, we consider different editions of a book as the same book.\n",
    "ratings = df2[[\"User-ID\", \"Title\", \"Rating\"]]\n",
    "# do not consider ratings=0\n",
    "ratings = ratings[ratings[\"Rating\"]>0]\n",
    "# reduce storage space\n",
    "ratings[\"Rating\"] = ratings[\"Rating\"].astype(np.int8)"
   ]
  },
  {
   "cell_type": "code",
   "execution_count": 194,
   "metadata": {},
   "outputs": [],
   "source": [
    "# Full Dataset is too large to use it in one run, so we take only a subsample for now\n",
    "# For collaborative filtering, we want as many overlaps in rated books between users as possible.\n",
    "# Therefore, do not select a random sample where we may end up with one rating per user, but order the \n",
    "# data by User-ID and then take the first x% of observations.\n",
    "ratings.sort_values(by=\"User-ID\", inplace=True)\n",
    "sample = ratings[:round(len(ratings)*0.5)]      # use half of the data set\n",
    "# sample = ratings.sample(frac=0.1, random_state = 420)"
   ]
  },
  {
   "cell_type": "code",
   "execution_count": 195,
   "metadata": {},
   "outputs": [
    {
     "data": {
      "image/png": "[encoded data removed]",
      "text/plain": [
       "<Figure size 720x288 with 2 Axes>"
      ]
     },
     "metadata": {},
     "output_type": "display_data"
    }
   ],
   "source": [
    "# Does the subsample have an equal distribution of ratings as the original data set?\n",
    "fig, ax = plt.subplots(1,2)\n",
    "ax[0].hist(ratings[\"Rating\"])\n",
    "ax[0].set_xlabel(\"Rating\")\n",
    "ax[0].set_ylabel(\"Frequency\")\n",
    "ax[0].set_title(\"Original dataset\");\n",
    "\n",
    "ax[1].hist(sample[\"Rating\"])\n",
    "ax[1].set_xlabel(\"Rating\")\n",
    "ax[1].set_ylabel(\"Frequency\")\n",
    "ax[1].set_title(\"Subsample\");\n",
    "\n",
    "fig.set_figheight(4);\n",
    "fig.set_figwidth(10);"
   ]
  },
  {
   "cell_type": "code",
   "execution_count": 196,
   "metadata": {},
   "outputs": [],
   "source": [
    "# GridSearchCV, which we will use to find the best model parameters, is not compatible with the trainset obtained\n",
    "# from the surprise.model_selection train-test-split method. However, we MUST use a trainset obtained from the \n",
    "# surprise.model_selection train-test-split method later when fitting our best model. Therefore, we need to split\n",
    "# trainset and testset here manually. We will not use the testset in GridSearchCV, because GridSearchCV apllies \n",
    "# corss validation on the trainset. Instead, we hold out the testset now and we will only use it later to estimate \n",
    "# the performance of the best model obtained from GridSearchCV\n",
    "\n",
    "testset = sample.sample(frac=0.1)    # holdout this set to estimate performance of the final model at the end\n",
    "trainset = sample.append(testset).drop_duplicates(keep=False)       # remaining data set = trainset"
   ]
  },
  {
   "cell_type": "code",
   "execution_count": 197,
   "metadata": {},
   "outputs": [],
   "source": [
    "# bring trainset into the correct format for estimation\n",
    "reader = Reader(rating_scale=(1, 10))\n",
    "trainset = Dataset.load_from_df(trainset, reader)\n",
    "testset = Dataset.load_from_df(testset, reader)"
   ]
  },
  {
   "cell_type": "markdown",
   "metadata": {},
   "source": [
    "## Memory-based"
   ]
  },
  {
   "cell_type": "markdown",
   "metadata": {},
   "source": [
    "For the memory-based, we tune the hyperparamters min_support (minimum number of neighbours) and k (maximum number of neighbours), and we test whether measuring cosine-similarity or msd-similirity and whether a user-based or an item-based model give better results, respectively."
   ]
  },
  {
   "cell_type": "code",
   "execution_count": 198,
   "metadata": {
    "scrolled": true
   },
   "outputs": [
    {
     "name": "stdout",
     "output_type": "stream",
     "text": [
      "Computing the cosine similarity matrix...\n",
      "Done computing similarity matrix.\n",
      "Computing the cosine similarity matrix...\n",
      "Done computing similarity matrix.\n",
      "Computing the cosine similarity matrix...\n",
      "Done computing similarity matrix.\n",
      "Computing the cosine similarity matrix...\n",
      "Done computing similarity matrix.\n",
      "Computing the cosine similarity matrix...\n",
      "Done computing similarity matrix.\n",
      "Computing the cosine similarity matrix...\n",
      "Done computing similarity matrix.\n",
      "Computing the cosine similarity matrix...\n",
      "Done computing similarity matrix.\n",
      "Computing the cosine similarity matrix...\n",
      "Done computing similarity matrix.\n",
      "Computing the cosine similarity matrix...\n",
      "Done computing similarity matrix.\n",
      "Computing the cosine similarity matrix...\n",
      "Done computing similarity matrix.\n",
      "Computing the cosine similarity matrix...\n",
      "Done computing similarity matrix.\n",
      "Computing the cosine similarity matrix...\n",
      "Done computing similarity matrix.\n",
      "Computing the cosine similarity matrix...\n",
      "Done computing similarity matrix.\n",
      "Computing the cosine similarity matrix...\n",
      "Done computing similarity matrix.\n",
      "Computing the cosine similarity matrix...\n",
      "Done computing similarity matrix.\n",
      "Computing the cosine similarity matrix...\n",
      "Done computing similarity matrix.\n",
      "Computing the cosine similarity matrix...\n",
      "Done computing similarity matrix.\n",
      "Computing the cosine similarity matrix...\n",
      "Done computing similarity matrix.\n",
      "Computing the cosine similarity matrix...\n",
      "Done computing similarity matrix.\n",
      "Computing the cosine similarity matrix...\n",
      "Done computing similarity matrix.\n",
      "Computing the cosine similarity matrix...\n",
      "Done computing similarity matrix.\n",
      "Computing the cosine similarity matrix...\n",
      "Done computing similarity matrix.\n",
      "Computing the cosine similarity matrix...\n",
      "Done computing similarity matrix.\n",
      "Computing the cosine similarity matrix...\n",
      "Done computing similarity matrix.\n",
      "Computing the cosine similarity matrix...\n",
      "Done computing similarity matrix.\n",
      "Computing the cosine similarity matrix...\n",
      "Done computing similarity matrix.\n",
      "Computing the cosine similarity matrix...\n",
      "Done computing similarity matrix.\n",
      "Computing the cosine similarity matrix...\n",
      "Done computing similarity matrix.\n",
      "Computing the cosine similarity matrix...\n",
      "Done computing similarity matrix.\n",
      "Computing the cosine similarity matrix...\n",
      "Done computing similarity matrix.\n",
      "Computing the cosine similarity matrix...\n",
      "Done computing similarity matrix.\n",
      "Computing the cosine similarity matrix...\n",
      "Done computing similarity matrix.\n",
      "Computing the cosine similarity matrix...\n",
      "Done computing similarity matrix.\n",
      "Computing the cosine similarity matrix...\n",
      "Done computing similarity matrix.\n",
      "Computing the cosine similarity matrix...\n",
      "Done computing similarity matrix.\n",
      "Computing the cosine similarity matrix...\n",
      "Done computing similarity matrix.\n",
      "Computing the cosine similarity matrix...\n",
      "Done computing similarity matrix.\n",
      "Computing the cosine similarity matrix...\n",
      "Done computing similarity matrix.\n",
      "Computing the cosine similarity matrix...\n",
      "Done computing similarity matrix.\n",
      "Computing the cosine similarity matrix...\n",
      "Done computing similarity matrix.\n",
      "Computing the cosine similarity matrix...\n",
      "Done computing similarity matrix.\n",
      "Computing the cosine similarity matrix...\n",
      "Done computing similarity matrix.\n",
      "Computing the cosine similarity matrix...\n",
      "Done computing similarity matrix.\n",
      "Computing the cosine similarity matrix...\n",
      "Done computing similarity matrix.\n",
      "Computing the cosine similarity matrix...\n",
      "Done computing similarity matrix.\n",
      "Computing the cosine similarity matrix...\n",
      "Done computing similarity matrix.\n",
      "Computing the cosine similarity matrix...\n",
      "Done computing similarity matrix.\n",
      "Computing the cosine similarity matrix...\n",
      "Done computing similarity matrix.\n",
      "Computing the cosine similarity matrix...\n",
      "Done computing similarity matrix.\n",
      "Computing the cosine similarity matrix...\n",
      "Done computing similarity matrix.\n",
      "Computing the cosine similarity matrix...\n",
      "Done computing similarity matrix.\n",
      "Computing the cosine similarity matrix...\n",
      "Done computing similarity matrix.\n",
      "Computing the cosine similarity matrix...\n",
      "Done computing similarity matrix.\n",
      "Computing the cosine similarity matrix...\n",
      "Done computing similarity matrix.\n",
      "Computing the cosine similarity matrix...\n",
      "Done computing similarity matrix.\n",
      "Computing the cosine similarity matrix...\n",
      "Done computing similarity matrix.\n",
      "Computing the msd similarity matrix...\n",
      "Done computing similarity matrix.\n",
      "Computing the msd similarity matrix...\n",
      "Done computing similarity matrix.\n",
      "Computing the msd similarity matrix...\n",
      "Done computing similarity matrix.\n",
      "Computing the msd similarity matrix...\n",
      "Done computing similarity matrix.\n",
      "Computing the msd similarity matrix...\n",
      "Done computing similarity matrix.\n",
      "Computing the msd similarity matrix...\n",
      "Done computing similarity matrix.\n",
      "Computing the msd similarity matrix...\n",
      "Done computing similarity matrix.\n",
      "Computing the msd similarity matrix...\n",
      "Done computing similarity matrix.\n",
      "Computing the msd similarity matrix...\n",
      "Done computing similarity matrix.\n",
      "Computing the msd similarity matrix...\n",
      "Done computing similarity matrix.\n",
      "Computing the msd similarity matrix...\n",
      "Done computing similarity matrix.\n",
      "Computing the msd similarity matrix...\n",
      "Done computing similarity matrix.\n",
      "Computing the msd similarity matrix...\n",
      "Done computing similarity matrix.\n",
      "Computing the msd similarity matrix...\n",
      "Done computing similarity matrix.\n",
      "Computing the msd similarity matrix...\n",
      "Done computing similarity matrix.\n",
      "Computing the msd similarity matrix...\n",
      "Done computing similarity matrix.\n",
      "Computing the msd similarity matrix...\n",
      "Done computing similarity matrix.\n",
      "Computing the msd similarity matrix...\n",
      "Done computing similarity matrix.\n",
      "Computing the msd similarity matrix...\n",
      "Done computing similarity matrix.\n",
      "Computing the msd similarity matrix...\n",
      "Done computing similarity matrix.\n",
      "Computing the msd similarity matrix...\n",
      "Done computing similarity matrix.\n",
      "Computing the msd similarity matrix...\n",
      "Done computing similarity matrix.\n",
      "Computing the msd similarity matrix...\n",
      "Done computing similarity matrix.\n",
      "Computing the msd similarity matrix...\n",
      "Done computing similarity matrix.\n",
      "Computing the msd similarity matrix...\n",
      "Done computing similarity matrix.\n",
      "Computing the msd similarity matrix...\n",
      "Done computing similarity matrix.\n",
      "Computing the msd similarity matrix...\n",
      "Done computing similarity matrix.\n",
      "Computing the msd similarity matrix...\n",
      "Done computing similarity matrix.\n",
      "Computing the msd similarity matrix...\n",
      "Done computing similarity matrix.\n",
      "Computing the msd similarity matrix...\n",
      "Done computing similarity matrix.\n",
      "Computing the msd similarity matrix...\n",
      "Done computing similarity matrix.\n",
      "Computing the msd similarity matrix...\n",
      "Done computing similarity matrix.\n",
      "Computing the msd similarity matrix...\n",
      "Done computing similarity matrix.\n",
      "Computing the msd similarity matrix...\n",
      "Done computing similarity matrix.\n",
      "Computing the msd similarity matrix...\n",
      "Done computing similarity matrix.\n",
      "Computing the msd similarity matrix...\n",
      "Done computing similarity matrix.\n",
      "Computing the msd similarity matrix...\n",
      "Done computing similarity matrix.\n",
      "Computing the msd similarity matrix...\n",
      "Done computing similarity matrix.\n",
      "Computing the msd similarity matrix...\n",
      "Done computing similarity matrix.\n",
      "Computing the msd similarity matrix...\n",
      "Done computing similarity matrix.\n",
      "Computing the msd similarity matrix...\n",
      "Done computing similarity matrix.\n",
      "Computing the msd similarity matrix...\n",
      "Done computing similarity matrix.\n",
      "Computing the msd similarity matrix...\n",
      "Done computing similarity matrix.\n",
      "Computing the msd similarity matrix...\n",
      "Done computing similarity matrix.\n",
      "Computing the msd similarity matrix...\n",
      "Done computing similarity matrix.\n",
      "Computing the msd similarity matrix...\n",
      "Done computing similarity matrix.\n",
      "Computing the msd similarity matrix...\n",
      "Done computing similarity matrix.\n",
      "Computing the msd similarity matrix...\n",
      "Done computing similarity matrix.\n",
      "Computing the msd similarity matrix...\n",
      "Done computing similarity matrix.\n",
      "Computing the msd similarity matrix...\n",
      "Done computing similarity matrix.\n",
      "Computing the msd similarity matrix...\n",
      "Done computing similarity matrix.\n",
      "Computing the msd similarity matrix...\n",
      "Done computing similarity matrix.\n",
      "Computing the msd similarity matrix...\n",
      "Done computing similarity matrix.\n",
      "Computing the msd similarity matrix...\n",
      "Done computing similarity matrix.\n",
      "Computing the msd similarity matrix...\n",
      "Done computing similarity matrix.\n",
      "Computing the msd similarity matrix...\n",
      "Done computing similarity matrix.\n",
      "Computing the cosine similarity matrix...\n",
      "Done computing similarity matrix.\n",
      "Computing the cosine similarity matrix...\n",
      "Done computing similarity matrix.\n",
      "Computing the cosine similarity matrix...\n",
      "Done computing similarity matrix.\n",
      "Computing the cosine similarity matrix...\n",
      "Done computing similarity matrix.\n",
      "Computing the cosine similarity matrix...\n",
      "Done computing similarity matrix.\n",
      "Computing the cosine similarity matrix...\n",
      "Done computing similarity matrix.\n",
      "Computing the cosine similarity matrix...\n",
      "Done computing similarity matrix.\n",
      "Computing the cosine similarity matrix...\n",
      "Done computing similarity matrix.\n",
      "Computing the cosine similarity matrix...\n",
      "Done computing similarity matrix.\n",
      "Computing the cosine similarity matrix...\n",
      "Done computing similarity matrix.\n",
      "Computing the cosine similarity matrix...\n",
      "Done computing similarity matrix.\n",
      "Computing the cosine similarity matrix...\n",
      "Done computing similarity matrix.\n",
      "Computing the cosine similarity matrix...\n",
      "Done computing similarity matrix.\n",
      "Computing the cosine similarity matrix...\n",
      "Done computing similarity matrix.\n",
      "Computing the cosine similarity matrix...\n",
      "Done computing similarity matrix.\n",
      "Computing the cosine similarity matrix...\n",
      "Done computing similarity matrix.\n",
      "Computing the cosine similarity matrix...\n",
      "Done computing similarity matrix.\n",
      "Computing the cosine similarity matrix...\n",
      "Done computing similarity matrix.\n",
      "Computing the cosine similarity matrix...\n",
      "Done computing similarity matrix.\n",
      "Computing the cosine similarity matrix...\n",
      "Done computing similarity matrix.\n",
      "Computing the cosine similarity matrix...\n",
      "Done computing similarity matrix.\n",
      "Computing the cosine similarity matrix...\n",
      "Done computing similarity matrix.\n",
      "Computing the cosine similarity matrix...\n",
      "Done computing similarity matrix.\n",
      "Computing the cosine similarity matrix...\n",
      "Done computing similarity matrix.\n",
      "Computing the cosine similarity matrix...\n",
      "Done computing similarity matrix.\n",
      "Computing the cosine similarity matrix...\n",
      "Done computing similarity matrix.\n",
      "Computing the cosine similarity matrix...\n",
      "Done computing similarity matrix.\n",
      "Computing the cosine similarity matrix...\n",
      "Done computing similarity matrix.\n",
      "Computing the cosine similarity matrix...\n",
      "Done computing similarity matrix.\n",
      "Computing the cosine similarity matrix...\n",
      "Done computing similarity matrix.\n",
      "Computing the cosine similarity matrix...\n",
      "Done computing similarity matrix.\n",
      "Computing the cosine similarity matrix...\n",
      "Done computing similarity matrix.\n",
      "Computing the cosine similarity matrix...\n",
      "Done computing similarity matrix.\n",
      "Computing the cosine similarity matrix...\n",
      "Done computing similarity matrix.\n",
      "Computing the cosine similarity matrix...\n",
      "Done computing similarity matrix.\n",
      "Computing the cosine similarity matrix...\n",
      "Done computing similarity matrix.\n",
      "Computing the cosine similarity matrix...\n",
      "Done computing similarity matrix.\n",
      "Computing the cosine similarity matrix...\n",
      "Done computing similarity matrix.\n",
      "Computing the cosine similarity matrix...\n",
      "Done computing similarity matrix.\n",
      "Computing the cosine similarity matrix...\n",
      "Done computing similarity matrix.\n",
      "Computing the cosine similarity matrix...\n",
      "Done computing similarity matrix.\n",
      "Computing the cosine similarity matrix...\n",
      "Done computing similarity matrix.\n",
      "Computing the cosine similarity matrix...\n",
      "Done computing similarity matrix.\n",
      "Computing the cosine similarity matrix...\n",
      "Done computing similarity matrix.\n",
      "Computing the cosine similarity matrix...\n",
      "Done computing similarity matrix.\n",
      "Computing the cosine similarity matrix...\n",
      "Done computing similarity matrix.\n",
      "Computing the cosine similarity matrix...\n",
      "Done computing similarity matrix.\n",
      "Computing the cosine similarity matrix...\n",
      "Done computing similarity matrix.\n",
      "Computing the cosine similarity matrix...\n",
      "Done computing similarity matrix.\n",
      "Computing the cosine similarity matrix...\n",
      "Done computing similarity matrix.\n",
      "Computing the cosine similarity matrix...\n",
      "Done computing similarity matrix.\n",
      "Computing the cosine similarity matrix...\n",
      "Done computing similarity matrix.\n",
      "Computing the cosine similarity matrix...\n",
      "Done computing similarity matrix.\n",
      "Computing the cosine similarity matrix...\n",
      "Done computing similarity matrix.\n",
      "Computing the cosine similarity matrix...\n",
      "Done computing similarity matrix.\n",
      "Computing the cosine similarity matrix...\n",
      "Done computing similarity matrix.\n",
      "Computing the msd similarity matrix...\n",
      "Done computing similarity matrix.\n",
      "Computing the msd similarity matrix...\n",
      "Done computing similarity matrix.\n",
      "Computing the msd similarity matrix...\n",
      "Done computing similarity matrix.\n",
      "Computing the msd similarity matrix...\n",
      "Done computing similarity matrix.\n",
      "Computing the msd similarity matrix...\n",
      "Done computing similarity matrix.\n",
      "Computing the msd similarity matrix...\n",
      "Done computing similarity matrix.\n",
      "Computing the msd similarity matrix...\n",
      "Done computing similarity matrix.\n",
      "Computing the msd similarity matrix...\n",
      "Done computing similarity matrix.\n",
      "Computing the msd similarity matrix...\n",
      "Done computing similarity matrix.\n",
      "Computing the msd similarity matrix...\n",
      "Done computing similarity matrix.\n",
      "Computing the msd similarity matrix...\n",
      "Done computing similarity matrix.\n",
      "Computing the msd similarity matrix...\n",
      "Done computing similarity matrix.\n",
      "Computing the msd similarity matrix...\n",
      "Done computing similarity matrix.\n",
      "Computing the msd similarity matrix...\n",
      "Done computing similarity matrix.\n",
      "Computing the msd similarity matrix...\n",
      "Done computing similarity matrix.\n",
      "Computing the msd similarity matrix...\n",
      "Done computing similarity matrix.\n",
      "Computing the msd similarity matrix...\n",
      "Done computing similarity matrix.\n",
      "Computing the msd similarity matrix...\n",
      "Done computing similarity matrix.\n",
      "Computing the msd similarity matrix...\n",
      "Done computing similarity matrix.\n",
      "Computing the msd similarity matrix...\n",
      "Done computing similarity matrix.\n",
      "Computing the msd similarity matrix...\n",
      "Done computing similarity matrix.\n",
      "Computing the msd similarity matrix...\n",
      "Done computing similarity matrix.\n",
      "Computing the msd similarity matrix...\n",
      "Done computing similarity matrix.\n",
      "Computing the msd similarity matrix...\n",
      "Done computing similarity matrix.\n",
      "Computing the msd similarity matrix...\n",
      "Done computing similarity matrix.\n",
      "Computing the msd similarity matrix...\n",
      "Done computing similarity matrix.\n",
      "Computing the msd similarity matrix...\n",
      "Done computing similarity matrix.\n",
      "Computing the msd similarity matrix...\n",
      "Done computing similarity matrix.\n",
      "Computing the msd similarity matrix...\n",
      "Done computing similarity matrix.\n",
      "Computing the msd similarity matrix...\n",
      "Done computing similarity matrix.\n",
      "Computing the msd similarity matrix...\n",
      "Done computing similarity matrix.\n",
      "Computing the msd similarity matrix...\n",
      "Done computing similarity matrix.\n",
      "Computing the msd similarity matrix...\n",
      "Done computing similarity matrix.\n",
      "Computing the msd similarity matrix...\n",
      "Done computing similarity matrix.\n",
      "Computing the msd similarity matrix...\n",
      "Done computing similarity matrix.\n",
      "Computing the msd similarity matrix...\n",
      "Done computing similarity matrix.\n",
      "Computing the msd similarity matrix...\n",
      "Done computing similarity matrix.\n",
      "Computing the msd similarity matrix...\n",
      "Done computing similarity matrix.\n",
      "Computing the msd similarity matrix...\n",
      "Done computing similarity matrix.\n",
      "Computing the msd similarity matrix...\n",
      "Done computing similarity matrix.\n",
      "Computing the msd similarity matrix...\n",
      "Done computing similarity matrix.\n",
      "Computing the msd similarity matrix...\n",
      "Done computing similarity matrix.\n",
      "Computing the msd similarity matrix...\n",
      "Done computing similarity matrix.\n",
      "Computing the msd similarity matrix...\n",
      "Done computing similarity matrix.\n",
      "Computing the msd similarity matrix...\n",
      "Done computing similarity matrix.\n",
      "Computing the msd similarity matrix...\n",
      "Done computing similarity matrix.\n",
      "Computing the msd similarity matrix...\n",
      "Done computing similarity matrix.\n",
      "Computing the msd similarity matrix...\n",
      "Done computing similarity matrix.\n",
      "Computing the msd similarity matrix...\n",
      "Done computing similarity matrix.\n",
      "Computing the msd similarity matrix...\n",
      "Done computing similarity matrix.\n",
      "Computing the msd similarity matrix...\n",
      "Done computing similarity matrix.\n",
      "Computing the msd similarity matrix...\n",
      "Done computing similarity matrix.\n",
      "Computing the msd similarity matrix...\n",
      "Done computing similarity matrix.\n",
      "Computing the msd similarity matrix...\n",
      "Done computing similarity matrix.\n",
      "Computing the msd similarity matrix...\n",
      "Done computing similarity matrix.\n",
      "Computing the msd similarity matrix...\n",
      "Done computing similarity matrix.\n"
     ]
    }
   ],
   "source": [
    "sim_options = {\n",
    "    \"name\": [\"cosine\", \"msd\"],\n",
    "    \"min_support\": [9, 10, 11, 12, 13, 14, 15],\n",
    "    \"user_based\": [False, True],\n",
    "}\n",
    "\n",
    "param_grid = {\"k\":[10, 20], \"sim_options\": sim_options}\n",
    "\n",
    "grid_memory = GridSearchCV(KNNWithMeans, param_grid, measures=[\"rmse\"], cv=4)    # cv=4 (relatively small) to speed up computation\n",
    "grid_memory.fit(trainset)"
   ]
  },
  {
   "cell_type": "code",
   "execution_count": 199,
   "metadata": {},
   "outputs": [
    {
     "name": "stdout",
     "output_type": "stream",
     "text": [
      "{'rmse': {'k': 10, 'sim_options': {'name': 'cosine', 'min_support': 12, 'user_based': True}}}\n",
      "{'rmse': 1.8733871599295175}\n"
     ]
    }
   ],
   "source": [
    "print(grid_memory.best_params)\n",
    "print(grid_memory.best_score)"
   ]
  },
  {
   "cell_type": "markdown",
   "metadata": {},
   "source": [
    "## Model-based"
   ]
  },
  {
   "cell_type": "markdown",
   "metadata": {},
   "source": [
    "For the model-based, the situation is the quite similar, we have tried several values, included all the possible parameters in the \"param_grid\". The best combination seems to be {'n_epochs': 45, 'lr_all': 0.006, 'reg_all': 0.07}. "
   ]
  },
  {
   "cell_type": "markdown",
   "metadata": {},
   "source": [
    "__Note__: The following code was written as a comment because it takes a long time to run and we just kept the last cell as it contains the best combination of hyperparameters."
   ]
  },
  {
   "cell_type": "code",
   "execution_count": 200,
   "metadata": {},
   "outputs": [],
   "source": [
    "# param_grid = {\n",
    "  #  \"n_epochs\": [5, 10, 20],\n",
    "#     \"lr_all\": [0.002, 0.005, 0.007],\n",
    " #   \"reg_all\": [0.02, 0.04, 0.06]\n",
    "#}\n",
    "#grid_model = GridSearchCV(SVD, param_grid, measures=[\"rmse\"], cv=4)\n",
    "#grid_model.fit(trainset)"
   ]
  },
  {
   "cell_type": "code",
   "execution_count": 201,
   "metadata": {},
   "outputs": [],
   "source": [
    "#print(grid_model.best_params[\"rmse\"])    \n",
    "#print(grid_model.best_score[\"rmse\"])"
   ]
  },
  {
   "cell_type": "code",
   "execution_count": 202,
   "metadata": {},
   "outputs": [],
   "source": [
    "#param_grid = {\n",
    "#    \"n_epochs\": [5, 10, 20],\n",
    "#    \"lr_all\": [0.001, 0.002, 0.003, 0.004, 0.005, 0.006, 0.007, 0.008, 0.009],\n",
    "#    \"reg_all\": [0.01, 0.02, 0.03, 0.04, 0.05, 0.06, 0.07, 0.08, 0.09]\n",
    "#}\n",
    "#grid_model = GridSearchCV(SVD, param_grid, measures=[\"rmse\"], cv=4)\n",
    "#grid_model.fit(trainset)"
   ]
  },
  {
   "cell_type": "code",
   "execution_count": 203,
   "metadata": {},
   "outputs": [],
   "source": [
    "#print(grid_model.best_params[\"rmse\"])    \n",
    "#print(grid_model.best_score[\"rmse\"])\n"
   ]
  },
  {
   "cell_type": "code",
   "execution_count": 204,
   "metadata": {},
   "outputs": [],
   "source": [
    "#param_grid = {\n",
    "#    \"n_epochs\": [50, 55, 60, 65, 75],\n",
    "#    \"lr_all\": [0.005, 0.006, 0.007, 0.008, 0.009],\n",
    "#    \"reg_all\": [0.05, 0.06, 0.07, 0.08, 0.09]\n",
    "#}\n",
    "#grid_model = GridSearchCV(SVD, param_grid, measures=[\"rmse\"], cv=4)\n",
    "#grid_model.fit(trainset)"
   ]
  },
  {
   "cell_type": "code",
   "execution_count": 205,
   "metadata": {},
   "outputs": [],
   "source": [
    "#print(grid_model.best_params[\"rmse\"])    \n",
    "#print(grid_model.best_score[\"rmse\"])"
   ]
  },
  {
   "cell_type": "code",
   "execution_count": 206,
   "metadata": {},
   "outputs": [],
   "source": [
    "param_grid = {\n",
    "    \"n_epochs\": [25, 30, 35, 40, 45],\n",
    "    \"lr_all\": [0.005, 0.006, 0.007, 0.008, 0.009],\n",
    "    \"reg_all\": [0.05, 0.06, 0.07, 0.08, 0.09]\n",
    "}\n",
    "grid_model = GridSearchCV(SVD, param_grid, measures=[\"rmse\"], cv=4)\n",
    "grid_model.fit(trainset)"
   ]
  },
  {
   "cell_type": "code",
   "execution_count": 207,
   "metadata": {},
   "outputs": [
    {
     "name": "stdout",
     "output_type": "stream",
     "text": [
      "{'n_epochs': 45, 'lr_all': 0.006, 'reg_all': 0.07}\n",
      "1.733229568181965\n"
     ]
    }
   ],
   "source": [
    "print(grid_model.best_params[\"rmse\"])    \n",
    "print(grid_model.best_score[\"rmse\"])"
   ]
  },
  {
   "cell_type": "code",
   "execution_count": 208,
   "metadata": {},
   "outputs": [],
   "source": [
    "# find the best performing model out of memory-based and model-based CF\n",
    "if grid_model.best_score[\"rmse\"] <= grid_memory.best_score[\"rmse\"]:\n",
    "    best_CF_model = grid_model.best_estimator[\"rmse\"]\n",
    "else:\n",
    "    best_CF_model = grid_memory.best_estimator[\"rmse\"]"
   ]
  },
  {
   "cell_type": "code",
   "execution_count": 209,
   "metadata": {},
   "outputs": [
    {
     "data": {
      "text/plain": [
       "<surprise.prediction_algorithms.matrix_factorization.SVD at 0x1f3d1ce6d90>"
      ]
     },
     "execution_count": 209,
     "metadata": {},
     "output_type": "execute_result"
    }
   ],
   "source": [
    "best_CF_model"
   ]
  },
  {
   "cell_type": "markdown",
   "metadata": {},
   "source": [
    "# Our best model\n",
    "is a model-based Collaborative Filtering recommender system with 45 iterations of the SGD procedure, a learning rate of 0.006, and a regularization term of 0.07. We choose this model, and evaluate its performance on unseen data now."
   ]
  },
  {
   "cell_type": "markdown",
   "metadata": {},
   "source": [
    "## Model Evaluation\n",
    "Here we test the model performance of our chosen model on data that it has not seen yet. The performance on this data set can be considered the real-world performance of our model."
   ]
  },
  {
   "cell_type": "code",
   "execution_count": 210,
   "metadata": {},
   "outputs": [],
   "source": [
    "# We use the train_test_split method now only because it generates a data format that is necessary for estimation.\n",
    "# The actual split was already done previously\n",
    "\n",
    "# Take basically 100% of the previously selected training sample as trainset\n",
    "trainset, _ = train_test_split(trainset, test_size=0.00000000000001, random_state=42)\n",
    "\n",
    "# Take basically 100% of the held out set from the beginning as testset\n",
    "_, testset = train_test_split(testset, test_size=0.9999999999999, random_state=42)\n",
    "\n",
    "# 0 or 1 are unfortunately not allowed for \"test_size\", so we lose a tiny share of observations here, if at all"
   ]
  },
  {
   "cell_type": "code",
   "execution_count": 211,
   "metadata": {},
   "outputs": [
    {
     "data": {
      "text/plain": [
       "<surprise.prediction_algorithms.matrix_factorization.SVD at 0x1f3d1ce6d90>"
      ]
     },
     "execution_count": 211,
     "metadata": {},
     "output_type": "execute_result"
    }
   ],
   "source": [
    "best_CF_model.fit(trainset)"
   ]
  },
  {
   "cell_type": "code",
   "execution_count": 212,
   "metadata": {},
   "outputs": [],
   "source": [
    "predictions = best_CF_model.test(testset)"
   ]
  },
  {
   "cell_type": "code",
   "execution_count": 213,
   "metadata": {},
   "outputs": [
    {
     "name": "stdout",
     "output_type": "stream",
     "text": [
      "RMSE: 1.7069\n"
     ]
    },
    {
     "data": {
      "text/plain": [
       "1.7068867192487498"
      ]
     },
     "execution_count": 213,
     "metadata": {},
     "output_type": "execute_result"
    }
   ],
   "source": [
    "accuracy.rmse(predictions)"
   ]
  },
  {
   "cell_type": "markdown",
   "metadata": {},
   "source": [
    "The out-of-sample RMSE is lower than in-sample. While this is technically possible, it is very unlikely. At least, this may be a sign that our model is not overfitting the training sample.\n",
    "\n",
    "Our chosen model has a out-of-sample RMSE of 1.7328. The RMSE has the same unit as the dependent variable, and so the acceptable values for this measure vary depending on the dependent variable. It tells us how close the true data points are to the predicted points made by the model. Since our the variable 'Ratings' varies between 1 and 10, it means that the predictions are somewhat far away from the true values. While it is not so bad (a true 9 is not predicted to be a 5), this value reflects a relatively moderate abilitiy of the model to make accurate predictions."
   ]
  },
  {
   "cell_type": "markdown",
   "metadata": {},
   "source": [
    "## Recommend the top 10 books to a user\n",
    "Unfortunately, it seems that there is no method to predict the rating of a list of items. Therefore, we apply a loop to compute a rating prediction for every book in our data set, sort descendingly by rating and output the top 10 books."
   ]
  },
  {
   "cell_type": "code",
   "execution_count": 214,
   "metadata": {},
   "outputs": [
    {
     "data": {
      "text/html": [
       "<div>\n",
       "<style scoped>\n",
       "    .dataframe tbody tr th:only-of-type {\n",
       "        vertical-align: middle;\n",
       "    }\n",
       "\n",
       "    .dataframe tbody tr th {\n",
       "        vertical-align: top;\n",
       "    }\n",
       "\n",
       "    .dataframe thead th {\n",
       "        text-align: right;\n",
       "    }\n",
       "</style>\n",
       "<table border=\"1\" class=\"dataframe\">\n",
       "  <thead>\n",
       "    <tr style=\"text-align: right;\">\n",
       "      <th></th>\n",
       "      <th>Book</th>\n",
       "      <th>Predicted Rating</th>\n",
       "    </tr>\n",
       "  </thead>\n",
       "  <tbody>\n",
       "    <tr>\n",
       "      <th>1200</th>\n",
       "      <td>Postmarked Yesteryear: 30 Rare Holiday Postcards</td>\n",
       "      <td>8.95</td>\n",
       "    </tr>\n",
       "    <tr>\n",
       "      <th>9164</th>\n",
       "      <td>Maus 1. Mein Vater kotzt Geschichte aus. Die G...</td>\n",
       "      <td>8.86</td>\n",
       "    </tr>\n",
       "    <tr>\n",
       "      <th>12098</th>\n",
       "      <td>Wolves of the Calla (The Dark Tower, Book 5)</td>\n",
       "      <td>8.86</td>\n",
       "    </tr>\n",
       "    <tr>\n",
       "      <th>478</th>\n",
       "      <td>Name Der Rose</td>\n",
       "      <td>8.86</td>\n",
       "    </tr>\n",
       "    <tr>\n",
       "      <th>2820</th>\n",
       "      <td>Eats, Shoots &amp;amp; Leaves: The Zero Tolerance ...</td>\n",
       "      <td>8.79</td>\n",
       "    </tr>\n",
       "    <tr>\n",
       "      <th>6720</th>\n",
       "      <td>Lonesome Dove</td>\n",
       "      <td>8.79</td>\n",
       "    </tr>\n",
       "    <tr>\n",
       "      <th>700</th>\n",
       "      <td>The Cat in the Hat</td>\n",
       "      <td>8.77</td>\n",
       "    </tr>\n",
       "    <tr>\n",
       "      <th>1190</th>\n",
       "      <td>Per Anhalter durch die Galaxis.</td>\n",
       "      <td>8.75</td>\n",
       "    </tr>\n",
       "    <tr>\n",
       "      <th>2751</th>\n",
       "      <td>Felidae. Roman.</td>\n",
       "      <td>8.74</td>\n",
       "    </tr>\n",
       "    <tr>\n",
       "      <th>4172</th>\n",
       "      <td>Redeeming Love</td>\n",
       "      <td>8.74</td>\n",
       "    </tr>\n",
       "  </tbody>\n",
       "</table>\n",
       "</div>"
      ],
      "text/plain": [
       "                                                    Book  Predicted Rating\n",
       "1200    Postmarked Yesteryear: 30 Rare Holiday Postcards              8.95\n",
       "9164   Maus 1. Mein Vater kotzt Geschichte aus. Die G...              8.86\n",
       "12098       Wolves of the Calla (The Dark Tower, Book 5)              8.86\n",
       "478                                        Name Der Rose              8.86\n",
       "2820   Eats, Shoots &amp; Leaves: The Zero Tolerance ...              8.79\n",
       "6720                                       Lonesome Dove              8.79\n",
       "700                                   The Cat in the Hat              8.77\n",
       "1190                     Per Anhalter durch die Galaxis.              8.75\n",
       "2751                                     Felidae. Roman.              8.74\n",
       "4172                                      Redeeming Love              8.74"
      ]
     },
     "execution_count": 214,
     "metadata": {},
     "output_type": "execute_result"
    }
   ],
   "source": [
    "user = '8'  # make recommendations for user 8\n",
    "book_list = sample['Title'].unique()\n",
    "predicted_rating = []\n",
    "\n",
    "for item in book_list:\n",
    "    # get a prediction for specific users and items.\n",
    "    predicted_rating.append(best_CF_model.predict(user, item)[3])\n",
    "    \n",
    "Recommendations = pd.DataFrame({\"Book\" : book_list, \"Predicted Rating\" : predicted_rating})\n",
    "Recommendations['Predicted Rating'] = Recommendations['Predicted Rating'].round(2)\n",
    "Recommendations.sort_values(by=\"Predicted Rating\", ascending=False).head(10)"
   ]
  },
  {
   "cell_type": "markdown",
   "metadata": {},
   "source": [
    "We can apply this same code to every user on the list, and get recommendations for any user.\n",
    "\n",
    "It seems that either user 8 speaks German, French and English, or the Collaborative Filtering did not succeed in identifying the users' language. In any case, if we had data on the language of the books, we should here now filter out books in languages that the user did not read before."
   ]
  },
  {
   "cell_type": "markdown",
   "metadata": {},
   "source": [
    "## Model Interpretability\n",
    "### Content-based\n",
    "The interpretability of our content-based recommender system is relatively straightforward. Based on previous ratings, we set up a user profile containing relative weights for each book feature. To make a prediction for the rating of a book, we multiply the user profile vector with the feature vector of the book. Therefore, it is relatively easy to trace back why we predict a certain rating for a book.\n",
    "\n",
    "The TF-IDF values we computed for each book title are not as easy to understand as a book feature since those are words turned into computer-readable numbers. However, it is still does not require great effort to roughly translate those numbers back into words and meaning, and our best content-based model did not even take the TF-IDF values as a feature.\n",
    "\n",
    "### Collaborative Filtering\n",
    "Predictions produced through Collaborative Filtering are less transparent than predictions from our content-based model because they do not explicitly rely on book features but rather implicitly infer on book features from the ratings of the complete corpus of users.\n",
    "\n",
    "#### Memory-based\n",
    "Memory-based Collaborative Filtering algorithms find the most similar 1) users or 2) items (books) in terms of ratings and then predict a rating for a certain book based on 1) the ratings of up to k similar users or 2) the ratings of up to k similar books. Therefore, although it requires a deeper dive into the algorithm, predictions made by memory-based systems are also relatively easy to explain. It is possible to reconstruct for each single user who are the most similar to her or for each single book which are the most similar ones, solely based on the existing ratings.\n",
    "\n",
    "#### __Model-based__\n",
    "Our preferred recommender system is also the most intransparent one, though similarly as memory-based models, it inplicitly infers on book features to make a prediction. It boils down the ratings matrix of users and books into the mulitplication of a user factor vector and an item factor vector, which represent each user's or item's affinity to a ceratin feature. The meaning of the feature itself remains unclear, but it reflects some underlying characteristics in the data. To understand what those features mean, we may plot the book titles in the feature space to see which books are close to each other in the respective dimension. This would then also help to understand the predictions made by this model-based recommender system, by spotting the rated books of a user and her recommendations in the plot, and seeing how they relate to each other in the feature space."
   ]
  },
  {
   "cell_type": "code",
   "execution_count": 221,
   "metadata": {},
   "outputs": [],
   "source": [
    "# restore the old trainset from the beginning\n",
    "sample = ratings[:round(len(ratings)*0.5)]      \n",
    "testset = sample.sample(frac=0.1)    \n",
    "trainset = sample.append(testset).drop_duplicates(keep=False)      \n",
    "\n",
    "book_list = trainset['Title'].unique()[:22228]     # drop a couple obs at the end because the restored trainset and the trainset for modelling are not exactly the same size"
   ]
  },
  {
   "cell_type": "code",
   "execution_count": 223,
   "metadata": {},
   "outputs": [
    {
     "data": {
      "image/png": "[encoded data removed]",
      "text/plain": [
       "<Figure size 432x288 with 1 Axes>"
      ]
     },
     "metadata": {},
     "output_type": "display_data"
    }
   ],
   "source": [
    "import matplotlib.pyplot as plt\n",
    "\n",
    "x = best_CF_model.qi[:,0][:4]\n",
    "y = best_CF_model.qi[:,1][:4]\n",
    "\n",
    "plt.scatter(x, y);\n",
    "plt.title('User 8s training books in the feature space');\n",
    "plt.xlabel('Factor 1');\n",
    "plt.ylabel('Factor 2');\n",
    "plt.text(x[0], y[0], book_list[0])\n",
    "plt.text(x[1], y[1], book_list[1])\n",
    "plt.text(x[2], y[2], book_list[2])\n",
    "plt.text(x[3], y[3], book_list[3])\n",
    "plt.show();"
   ]
  },
  {
   "cell_type": "markdown",
   "metadata": {},
   "source": [
    "## Fairness\n",
    "\n",
    "From the user's perspective, we do not consider the \"fairness\" of our recommender system to be an issue. It is an assisitve model, and it does not take decision but rather recommends options. These recommendations are likely to influence the user's behaviour, but the final decision is still up to her.\n",
    "\n",
    "However, since Collaborative Filtering tends to recommend popular items, one may consider it unfair for lesser known book authors. These authors may write books with similar features as popular books but they will be underrepresented in our recommendations and may make less revenue. To counteract this issue in the future, we would recommend to 1) collect more precise features on the book content (e.g. genre) and build a hybrid of Collaborative Filtering and content-based recommeder system and 2) hand-curate lists of undercover book tips."
   ]
  }
 ],
 "metadata": {
  "kernelspec": {
   "display_name": "Python [conda env:mlcourse1] *",
   "language": "python",
   "name": "conda-env-mlcourse1-py"
  },
  "language_info": {
   "codemirror_mode": {
    "name": "ipython",
    "version": 3
   },
   "file_extension": ".py",
   "mimetype": "text/x-python",
   "name": "python",
   "nbconvert_exporter": "python",
   "pygments_lexer": "ipython3",
   "version": "3.8.5"
  }
 },
 "nbformat": 4,
 "nbformat_minor": 4
}
